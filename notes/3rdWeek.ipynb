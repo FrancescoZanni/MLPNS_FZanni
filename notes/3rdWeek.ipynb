{
  "nbformat": 4,
  "nbformat_minor": 0,
  "metadata": {
    "colab": {
      "provenance": [],
      "authorship_tag": "ABX9TyP5rxANOHzWPkcnpaP30ogY",
      "include_colab_link": true
    },
    "kernelspec": {
      "name": "python3",
      "display_name": "Python 3"
    },
    "language_info": {
      "name": "python"
    }
  },
  "cells": [
    {
      "cell_type": "markdown",
      "metadata": {
        "id": "view-in-github",
        "colab_type": "text"
      },
      "source": [
        "<a href=\"https://colab.research.google.com/github/FrancescoZanni/MLPNS_FZanni/blob/main/notes/3rdWeek.ipynb\" target=\"_parent\"><img src=\"https://colab.research.google.com/assets/colab-badge.svg\" alt=\"Open In Colab\"/></a>"
      ]
    },
    {
      "cell_type": "markdown",
      "source": [
        "#Lezione 7\n",
        "Terremoti, vedi notebook a parte"
      ],
      "metadata": {
        "id": "WZN-B8DHzZp8"
      }
    },
    {
      "cell_type": "markdown",
      "source": [
        "#Lezione 8\n",
        "##Linear regression\n",
        "\n",
        "Parto dai gamma ray bursts GRBs: emissioni di raggi gamma di durata breve e sono stocastici\n",
        "Generati dal merging di neutron stars, che crea una emissione beamed, collimata, perchè da sincrotrone ecc... \n",
        "Si vede anche in regimi ottici e quando si vede si chiama afterglow\n",
        "\n",
        "Studieremo i dati di un GRB in lunghezze d'onda ottiche, in diverse bande di frequenza, ci sono dati che corrispondono a bande diverse, M1 W1 ecc\n",
        "\n",
        "Quello che misuriamo è la luminosità e come cambia nel tempo: \"ligh curve\"\n",
        "Si misura in magnitudine(motivo storico): scala logaritmica della luminosità \n",
        "La risposta degli occhi è logaritmica, per questo la scala è fatta in questo modo, ci è utile perchè il processo di energy decay segue una power law, che in scala logaritmica mi diventa una riga\n",
        "\n",
        "Useremo anche la scala di tempo logaritmica, non solo magnitudine, questo va fatto in pre processing \n",
        "\n",
        "Si usa il log10, non naturale!\n",
        "\n",
        "###Objective function\n",
        "Funzione obiettivo, metafora con insegnamento a un banbino, do un reward ecc\n",
        "Obj func è l'elemento che mi permette di decidere quali sono i risultati corretti ed è strutturata in modo da avere un reward system\n",
        "Se non ho una sol analitica devo scegliere una funzione dei dati e dei parametri che abbia valore massimo o minimo nel punto in cui ho la soluzione\n",
        "\n",
        "\n",
        "Continua poi nel file esercitazione\n"
      ],
      "metadata": {
        "id": "DsOCZMtsi2t3"
      }
    },
    {
      "cell_type": "markdown",
      "source": [
        "##Soluzione analitica\n",
        "Per la linear regression non è necessario procedere con un'ottimizzazione in stile machine learning, si può risolvere analiticamente in termini di algebra lineare\n",
        "\n",
        "\n"
      ],
      "metadata": {
        "id": "evXNtuOq6SAK"
      }
    },
    {
      "cell_type": "markdown",
      "source": [
        "##Train test split\n",
        "Non uso tutti i dati che ho a disposizione, me ne tengo un po per validare il modello che ottengo\n",
        "\n",
        "per esempio prendo il chi square e non gli passo tutti gli x e y, creo un sibset di training data e uno di test data "
      ],
      "metadata": {
        "id": "X_4Eg3BwfHN8"
      }
    },
    {
      "cell_type": "markdown",
      "source": [
        "#Lezione 9"
      ],
      "metadata": {
        "id": "bPn27L_-P8lC"
      }
    },
    {
      "cell_type": "markdown",
      "source": [
        "###Gradient descent\n",
        "Per ora cose come bergenti \n",
        "Osservazione, il parametro $\\eta$ è chiamato learning rate, quanto è grande il passo rispetto al gradient di dove mi trovo (hyperparameter, anche se non è ancora definito)\n",
        "\n",
        "HYPERPARAMETER: parametro del modello che non è ottimizzato sulla base dei dati, lo scelgo io come analista \n",
        "\n",
        "\n",
        "\n",
        "PROBLEMA DEL GRADIENT DESCENT: minimi locali\n",
        "\n",
        "risolvo con la stocasticita, inserisco randomness in tanti modi\n",
        "di solito si introduce stocasticità con: \n",
        "-perturbo la direzione in cui mi sposto\n",
        "-vado in una direzione a caso anche se non è quella in cui il gradiende scende e anche se cresce (MCMC)\n"
      ],
      "metadata": {
        "id": "_WFMgucwValL"
      }
    },
    {
      "cell_type": "markdown",
      "source": [
        "##MCMC\n",
        "Riparto dal teorema di Bayes, modello chiamato $\\theta$ perchè il modello è identificato dai suoi parametri, scelgo in anticipo il modello è modifico i parametri \n",
        "\n",
        "posterior: probabilità del modello dati i dati\n",
        "prior: probabilità del modello, viene dal \"domain knowledge\" NON DEVE venire dai dati, se no crolla il teorema\n",
        "\n",
        "evidence: probabilità \"integrata\" dei dati dato il modello\n",
        "\n",
        "###Monte Carlo methods\n",
        "\"simulazione per inferenza sui dati finisci\"\n",
        ".... parentesi storica ....\n",
        "\n",
        "###Monte Carlo Markov Chain\n",
        "\n",
        "MARGINALIZED POSTERIOR PROBABILITY: integrale su tutti i parametri tranne 1\n",
        "\n",
        "Perchè questo e non il downhill opt.?\n",
        "- Cerco di fare una completa esplorazione della \"likelihood surface\"(target function) il fatto che sia completa è che le catene sono markoviane\n",
        "- Quando ho una likelihood surf completa, l'istogramma mi permette di sapere sia la moda ma anche l'incertezza e la covariance matrix!\n",
        "\n",
        "doppio livello di stocasticità: scelgo in modo stocastico i nuovi parametri e se la likelihood non migliora scelgo di fare comunque il passo attraverso un draw di una variabile random\n",
        "\n",
        "\n"
      ],
      "metadata": {
        "id": "t5MyOaJ3YCQd"
      }
    },
    {
      "cell_type": "code",
      "execution_count": null,
      "metadata": {
        "id": "ZGqhEit0zXJq"
      },
      "outputs": [],
      "source": []
    }
  ]
}