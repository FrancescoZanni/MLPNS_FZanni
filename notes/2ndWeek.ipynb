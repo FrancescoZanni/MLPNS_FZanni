{
  "nbformat": 4,
  "nbformat_minor": 0,
  "metadata": {
    "colab": {
      "provenance": [],
      "authorship_tag": "ABX9TyOaw+F+8uoZzIyGSIawafKp",
      "include_colab_link": true
    },
    "kernelspec": {
      "name": "python3",
      "display_name": "Python 3"
    },
    "language_info": {
      "name": "python"
    }
  },
  "cells": [
    {
      "cell_type": "markdown",
      "metadata": {
        "id": "view-in-github",
        "colab_type": "text"
      },
      "source": [
        "<a href=\"https://colab.research.google.com/github/FrancescoZanni/MLPNS_FZanni/blob/main/notes/2ndWeek.ipynb\" target=\"_parent\"><img src=\"https://colab.research.google.com/assets/colab-badge.svg\" alt=\"Open In Colab\"/></a>"
      ]
    },
    {
      "cell_type": "markdown",
      "source": [
        "#Lezione 4\n",
        "Regole per la riproducibilita: \n",
        "- I dati devono essere accessibili a tutti, vanno shareati per es su github\n",
        "- Setto sempre il seed a un qualche numero, così se lo faccio girare di nuovo ottengo la stessa cosa\n",
        "- Prima di consegnare fare un restart and run all, così mi assicuro che funzioni con la sequenza di celle corretta \n",
        "\n",
        "Regole di igiene del codice: \n",
        "- Axis labels\n",
        "- Caption: spiega tutto quello che c'è nel plot (tipo legenda) dice cosa c'è di interessante nel plot\n",
        "- Evitare i numeri \"volanti\", se stampo un numero stampo anche che cosa è e cosa significa\n",
        "\n",
        "- Importare sempre tutto quello che serve all'inizio del codice\n",
        "\n",
        "##Primo argomento Probabilità e statistica\n",
        "\n",
        "onlinestatbook.com\n",
        "\n",
        "### Probabilità\n",
        " Due interpretazioni: di solito concetto frequentista, ma in molti dei modelli e dei pacchetti che useremo aderiscono all'interpretazione Bayesiana\n",
        "\n",
        " - Frequentista: probabilità = frequenza (soggetto a deviazioni)(non prendo il limite?) \n",
        " - Bayesiana: introduco un prior (conoscenza a priori) che arricchisce la mia interpretazione della frequenza (se io sono a casa e ho uan moenta e voglio predire la probabilità di testa o croce già parto pensando che sarà il 50% se è uno per strada penso che la moneta possa essere truccata).\n",
        "\n",
        " Dal punto di vista frequentista penso che ripetendo un esperimento più volte avrò una corrispondenza più accurata tra frequenza e probabilità ( legge dei grandi numeri) \n",
        "\n",
        "\n",
        "Vedi slide con gli operatori e l'aritmetica: \n",
        "https://slides.com/federicabianco/mlpns23_2\n",
        "\n",
        "\n",
        " ### Statistica\n",
        "\n",
        " la statistica si basa sulla teoria della probabilità ed è alla base dell'analisi.\n",
        " Ci porta dall'osservazione di un sample a fare inferenze su tutta la popolazione \n",
        "\n",
        " #### Distribuzione:\n",
        " formula, modello \n",
        " #### Popolazione: \n",
        " tutti gli elementi \n",
        " #### Sample:\n",
        "  subset limitato della popolazione, quello su cui di solito osservo\n",
        "\n",
        "\n",
        "### Momenti della distribuzione\n",
        "\n",
        "Primo momento: media (aritmetica)\n",
        "non è la moda (picco)\n",
        "non è la mediana (mezza distribuzione a destra e mezza a sinistra)\n",
        "\n",
        "Nel codice: \n",
        "np.mean(array) come funzione, oppure \n",
        ".mean()\n",
        ".mean(axis=1) specifico l'asse rispetto al quale faccio la media \n",
        "\n",
        "np.median(array) funzione, non faccio array.median()\n",
        "\n",
        "\n",
        "Secondo momento: varianza\n",
        "\n",
        "Nel codice stessa cosa \n",
        ".std()\n",
        ".std(axis=1)\n",
        "\n",
        "Numeri da ricordare: distribuzione Gaussiana 68%, 95%, 99.7%\n",
        "Li usiamo come threshold per dire se rigetto oppure no la mia teoria\n",
        "La scelta su quanti sigma scelgo dipende dal campo di ricerca, in fisica di solito 3 e in particle physics spesso 5\n",
        "\n",
        "Nelle scenze sociali spesso si tiene anche il 2 sigma, perchè i comportamenti umani sono stocastici\n",
        "\n",
        "Interquantile range: guarda alla percentuale di valori all'interno di una certa area (solo le la distr è gaussiana o simmetrica ha una relazione stretta con la sigma )\n",
        "\n",
        "### Distribuzione binomiale \n",
        " Distribuzione che descrive il risutlato per una collezione di esperimenti, ciascuno con gli stessi outcome con probabilità di ciascun outcome costante (coin toss, truccata oppure no)\n",
        " \n",
        "- Supporto positivo\n",
        "- PMS è la distribuzione, densità di probabilità \n",
        "- Skewness momento terzo, se è simmetrica oppure no \n",
        "- Kurtosi quanto sono pesanti le code\n",
        "\n",
        "### Distr. Poisson \n",
        "Descrive la varianza su un natural statistic process: es. flusso di una stella per una quantità di tempo limitata (numero di fotoni) \n",
        "Per stocasticità della natura se è un evento steady in realtà ha una varianza e segue una distr poisson \n",
        "\n",
        "Es se misuro 100 fotoni mi aspetto che il valore vero stia in $100\\pm \\sqrt{100}$\n",
        "\n",
        "Un solo parametro: $\\lambda$\n",
        "\n",
        "### Gaussiana \n",
        "- Supporto infinito \n",
        "- Simmetrica \n",
        "- \"Continua\"\n",
        "\n",
        "Motivo per cui è simmetrica: la PDF è pari rispetto alla media \n",
        "\n",
        "Anche se quasi niente in natura è gaussiano quasi tutte le analisi statistiche assumono distr Gaussiane (limite centrale?)\n",
        "Spesso i risultati della ricerca sono corretti solo sotto l'assunzione di Gaussianità, si spera che l'approsismazione sia abbastanza buona \n",
        "\n",
        "\n",
        " \n",
        "\n",
        "\n"
      ],
      "metadata": {
        "id": "L5MFq3UAvGbx"
      }
    },
    {
      "cell_type": "code",
      "execution_count": null,
      "metadata": {
        "id": "hxWHBToZvBC-"
      },
      "outputs": [],
      "source": [
        "import pandas as pd\n",
        "import numpy as np\n",
        "import matplotlib.pyplot as plt\n",
        "\n",
        "url = \"https://bit.ly/videosfile\""
      ]
    },
    {
      "cell_type": "code",
      "source": [
        "videos = pd.read_csv(url)"
      ],
      "metadata": {
        "id": "rL9IH-xQ0iMt"
      },
      "execution_count": null,
      "outputs": []
    },
    {
      "cell_type": "code",
      "source": [
        "videos.describe() #per le colonne numeriche fa una prima analisi delle proprietà statistiche, è comunque un dataframe, posso usarlo come metodo veloce per estrarre le colonne numeriche"
      ],
      "metadata": {
        "colab": {
          "base_uri": "https://localhost:8080/",
          "height": 300
        },
        "id": "aLRCouY0ExYG",
        "outputId": "4f446de9-d4bb-4ad0-8b08-c6be08e00a0b"
      },
      "execution_count": null,
      "outputs": [
        {
          "output_type": "execute_result",
          "data": {
            "text/plain": [
              "        category_id         views         likes      dislikes  comment_count\n",
              "count  40949.000000  4.094900e+04  4.094900e+04  4.094900e+04   4.094900e+04\n",
              "mean      19.972429  2.360785e+06  7.426670e+04  3.711401e+03   8.446804e+03\n",
              "std        7.568327  7.394114e+06  2.288853e+05  2.902971e+04   3.743049e+04\n",
              "min        1.000000  5.490000e+02  0.000000e+00  0.000000e+00   0.000000e+00\n",
              "25%       17.000000  2.423290e+05  5.424000e+03  2.020000e+02   6.140000e+02\n",
              "50%       24.000000  6.818610e+05  1.809100e+04  6.310000e+02   1.856000e+03\n",
              "75%       25.000000  1.823157e+06  5.541700e+04  1.938000e+03   5.755000e+03\n",
              "max       43.000000  2.252119e+08  5.613827e+06  1.674420e+06   1.361580e+06"
            ],
            "text/html": [
              "\n",
              "  <div id=\"df-df597498-8c9c-4f73-90c9-4c5f56997a6e\">\n",
              "    <div class=\"colab-df-container\">\n",
              "      <div>\n",
              "<style scoped>\n",
              "    .dataframe tbody tr th:only-of-type {\n",
              "        vertical-align: middle;\n",
              "    }\n",
              "\n",
              "    .dataframe tbody tr th {\n",
              "        vertical-align: top;\n",
              "    }\n",
              "\n",
              "    .dataframe thead th {\n",
              "        text-align: right;\n",
              "    }\n",
              "</style>\n",
              "<table border=\"1\" class=\"dataframe\">\n",
              "  <thead>\n",
              "    <tr style=\"text-align: right;\">\n",
              "      <th></th>\n",
              "      <th>category_id</th>\n",
              "      <th>views</th>\n",
              "      <th>likes</th>\n",
              "      <th>dislikes</th>\n",
              "      <th>comment_count</th>\n",
              "    </tr>\n",
              "  </thead>\n",
              "  <tbody>\n",
              "    <tr>\n",
              "      <th>count</th>\n",
              "      <td>40949.000000</td>\n",
              "      <td>4.094900e+04</td>\n",
              "      <td>4.094900e+04</td>\n",
              "      <td>4.094900e+04</td>\n",
              "      <td>4.094900e+04</td>\n",
              "    </tr>\n",
              "    <tr>\n",
              "      <th>mean</th>\n",
              "      <td>19.972429</td>\n",
              "      <td>2.360785e+06</td>\n",
              "      <td>7.426670e+04</td>\n",
              "      <td>3.711401e+03</td>\n",
              "      <td>8.446804e+03</td>\n",
              "    </tr>\n",
              "    <tr>\n",
              "      <th>std</th>\n",
              "      <td>7.568327</td>\n",
              "      <td>7.394114e+06</td>\n",
              "      <td>2.288853e+05</td>\n",
              "      <td>2.902971e+04</td>\n",
              "      <td>3.743049e+04</td>\n",
              "    </tr>\n",
              "    <tr>\n",
              "      <th>min</th>\n",
              "      <td>1.000000</td>\n",
              "      <td>5.490000e+02</td>\n",
              "      <td>0.000000e+00</td>\n",
              "      <td>0.000000e+00</td>\n",
              "      <td>0.000000e+00</td>\n",
              "    </tr>\n",
              "    <tr>\n",
              "      <th>25%</th>\n",
              "      <td>17.000000</td>\n",
              "      <td>2.423290e+05</td>\n",
              "      <td>5.424000e+03</td>\n",
              "      <td>2.020000e+02</td>\n",
              "      <td>6.140000e+02</td>\n",
              "    </tr>\n",
              "    <tr>\n",
              "      <th>50%</th>\n",
              "      <td>24.000000</td>\n",
              "      <td>6.818610e+05</td>\n",
              "      <td>1.809100e+04</td>\n",
              "      <td>6.310000e+02</td>\n",
              "      <td>1.856000e+03</td>\n",
              "    </tr>\n",
              "    <tr>\n",
              "      <th>75%</th>\n",
              "      <td>25.000000</td>\n",
              "      <td>1.823157e+06</td>\n",
              "      <td>5.541700e+04</td>\n",
              "      <td>1.938000e+03</td>\n",
              "      <td>5.755000e+03</td>\n",
              "    </tr>\n",
              "    <tr>\n",
              "      <th>max</th>\n",
              "      <td>43.000000</td>\n",
              "      <td>2.252119e+08</td>\n",
              "      <td>5.613827e+06</td>\n",
              "      <td>1.674420e+06</td>\n",
              "      <td>1.361580e+06</td>\n",
              "    </tr>\n",
              "  </tbody>\n",
              "</table>\n",
              "</div>\n",
              "      <button class=\"colab-df-convert\" onclick=\"convertToInteractive('df-df597498-8c9c-4f73-90c9-4c5f56997a6e')\"\n",
              "              title=\"Convert this dataframe to an interactive table.\"\n",
              "              style=\"display:none;\">\n",
              "        \n",
              "  <svg xmlns=\"http://www.w3.org/2000/svg\" height=\"24px\"viewBox=\"0 0 24 24\"\n",
              "       width=\"24px\">\n",
              "    <path d=\"M0 0h24v24H0V0z\" fill=\"none\"/>\n",
              "    <path d=\"M18.56 5.44l.94 2.06.94-2.06 2.06-.94-2.06-.94-.94-2.06-.94 2.06-2.06.94zm-11 1L8.5 8.5l.94-2.06 2.06-.94-2.06-.94L8.5 2.5l-.94 2.06-2.06.94zm10 10l.94 2.06.94-2.06 2.06-.94-2.06-.94-.94-2.06-.94 2.06-2.06.94z\"/><path d=\"M17.41 7.96l-1.37-1.37c-.4-.4-.92-.59-1.43-.59-.52 0-1.04.2-1.43.59L10.3 9.45l-7.72 7.72c-.78.78-.78 2.05 0 2.83L4 21.41c.39.39.9.59 1.41.59.51 0 1.02-.2 1.41-.59l7.78-7.78 2.81-2.81c.8-.78.8-2.07 0-2.86zM5.41 20L4 18.59l7.72-7.72 1.47 1.35L5.41 20z\"/>\n",
              "  </svg>\n",
              "      </button>\n",
              "      \n",
              "  <style>\n",
              "    .colab-df-container {\n",
              "      display:flex;\n",
              "      flex-wrap:wrap;\n",
              "      gap: 12px;\n",
              "    }\n",
              "\n",
              "    .colab-df-convert {\n",
              "      background-color: #E8F0FE;\n",
              "      border: none;\n",
              "      border-radius: 50%;\n",
              "      cursor: pointer;\n",
              "      display: none;\n",
              "      fill: #1967D2;\n",
              "      height: 32px;\n",
              "      padding: 0 0 0 0;\n",
              "      width: 32px;\n",
              "    }\n",
              "\n",
              "    .colab-df-convert:hover {\n",
              "      background-color: #E2EBFA;\n",
              "      box-shadow: 0px 1px 2px rgba(60, 64, 67, 0.3), 0px 1px 3px 1px rgba(60, 64, 67, 0.15);\n",
              "      fill: #174EA6;\n",
              "    }\n",
              "\n",
              "    [theme=dark] .colab-df-convert {\n",
              "      background-color: #3B4455;\n",
              "      fill: #D2E3FC;\n",
              "    }\n",
              "\n",
              "    [theme=dark] .colab-df-convert:hover {\n",
              "      background-color: #434B5C;\n",
              "      box-shadow: 0px 1px 3px 1px rgba(0, 0, 0, 0.15);\n",
              "      filter: drop-shadow(0px 1px 2px rgba(0, 0, 0, 0.3));\n",
              "      fill: #FFFFFF;\n",
              "    }\n",
              "  </style>\n",
              "\n",
              "      <script>\n",
              "        const buttonEl =\n",
              "          document.querySelector('#df-df597498-8c9c-4f73-90c9-4c5f56997a6e button.colab-df-convert');\n",
              "        buttonEl.style.display =\n",
              "          google.colab.kernel.accessAllowed ? 'block' : 'none';\n",
              "\n",
              "        async function convertToInteractive(key) {\n",
              "          const element = document.querySelector('#df-df597498-8c9c-4f73-90c9-4c5f56997a6e');\n",
              "          const dataTable =\n",
              "            await google.colab.kernel.invokeFunction('convertToInteractive',\n",
              "                                                     [key], {});\n",
              "          if (!dataTable) return;\n",
              "\n",
              "          const docLinkHtml = 'Like what you see? Visit the ' +\n",
              "            '<a target=\"_blank\" href=https://colab.research.google.com/notebooks/data_table.ipynb>data table notebook</a>'\n",
              "            + ' to learn more about interactive tables.';\n",
              "          element.innerHTML = '';\n",
              "          dataTable['output_type'] = 'display_data';\n",
              "          await google.colab.output.renderOutput(dataTable, element);\n",
              "          const docLink = document.createElement('div');\n",
              "          docLink.innerHTML = docLinkHtml;\n",
              "          element.appendChild(docLink);\n",
              "        }\n",
              "      </script>\n",
              "    </div>\n",
              "  </div>\n",
              "  "
            ]
          },
          "metadata": {},
          "execution_count": 7
        }
      ]
    },
    {
      "cell_type": "code",
      "source": [
        "ncols=(videos.describe()).columns"
      ],
      "metadata": {
        "id": "-ZGsB0HKFDkV"
      },
      "execution_count": null,
      "outputs": []
    },
    {
      "cell_type": "code",
      "source": [
        "print(videos[\"views\"].mean())\n",
        "print(videos[\"views\"].std())"
      ],
      "metadata": {
        "colab": {
          "base_uri": "https://localhost:8080/"
        },
        "id": "jutgxaiaFgNW",
        "outputId": "eb8557ac-f655-4bcc-bf67-1dc66409b21f"
      },
      "execution_count": null,
      "outputs": [
        {
          "output_type": "stream",
          "name": "stdout",
          "text": [
            "2360784.6382573447\n",
            "7394113.75970394\n"
          ]
        }
      ]
    },
    {
      "cell_type": "code",
      "source": [
        "videos[ncols].std()"
      ],
      "metadata": {
        "colab": {
          "base_uri": "https://localhost:8080/"
        },
        "id": "crxbQDnuGEmW",
        "outputId": "38763d56-569c-4654-899e-234a82fc5d67"
      },
      "execution_count": null,
      "outputs": [
        {
          "output_type": "execute_result",
          "data": {
            "text/plain": [
              "category_id      7.568327e+00\n",
              "views            7.394114e+06\n",
              "likes            2.288853e+05\n",
              "dislikes         2.902971e+04\n",
              "comment_count    3.743049e+04\n",
              "dtype: float64"
            ]
          },
          "metadata": {},
          "execution_count": 12
        }
      ]
    },
    {
      "cell_type": "code",
      "source": [
        "videos_array = videos[ncols].values #lo rendo un array, non più un dataframe "
      ],
      "metadata": {
        "id": "G76QVju4Gpyn"
      },
      "execution_count": null,
      "outputs": []
    },
    {
      "cell_type": "code",
      "source": [
        "videos_array.mean(axis=1)"
      ],
      "metadata": {
        "colab": {
          "base_uri": "https://localhost:8080/"
        },
        "id": "4CSw50KCGu9B",
        "outputId": "b1d77b93-7d55-434c-bd94-f1373387810e"
      },
      "execution_count": null,
      "outputs": [
        {
          "output_type": "execute_result",
          "data": {
            "text/plain": [
              "array([ 164968.6,  506968.2,  670202. , ...,  223913.4, 1173941. ,\n",
              "       2204197.8])"
            ]
          },
          "metadata": {},
          "execution_count": 15
        }
      ]
    },
    {
      "cell_type": "code",
      "source": [
        "videos.corr()"
      ],
      "metadata": {
        "colab": {
          "base_uri": "https://localhost:8080/",
          "height": 206
        },
        "id": "zbLjCWQSG4Q3",
        "outputId": "2d061279-75b8-4f9a-f075-8b6cc910c116"
      },
      "execution_count": null,
      "outputs": [
        {
          "output_type": "execute_result",
          "data": {
            "text/plain": [
              "               category_id     views     likes  dislikes  comment_count\n",
              "category_id       1.000000 -0.168231 -0.173921 -0.033547      -0.076307\n",
              "views            -0.168231  1.000000  0.849177  0.472213       0.617621\n",
              "likes            -0.173921  0.849177  1.000000  0.447186       0.803057\n",
              "dislikes         -0.033547  0.472213  0.447186  1.000000       0.700184\n",
              "comment_count    -0.076307  0.617621  0.803057  0.700184       1.000000"
            ],
            "text/html": [
              "\n",
              "  <div id=\"df-0fe105e4-8fa0-43c1-b136-20f68adde3f2\">\n",
              "    <div class=\"colab-df-container\">\n",
              "      <div>\n",
              "<style scoped>\n",
              "    .dataframe tbody tr th:only-of-type {\n",
              "        vertical-align: middle;\n",
              "    }\n",
              "\n",
              "    .dataframe tbody tr th {\n",
              "        vertical-align: top;\n",
              "    }\n",
              "\n",
              "    .dataframe thead th {\n",
              "        text-align: right;\n",
              "    }\n",
              "</style>\n",
              "<table border=\"1\" class=\"dataframe\">\n",
              "  <thead>\n",
              "    <tr style=\"text-align: right;\">\n",
              "      <th></th>\n",
              "      <th>category_id</th>\n",
              "      <th>views</th>\n",
              "      <th>likes</th>\n",
              "      <th>dislikes</th>\n",
              "      <th>comment_count</th>\n",
              "    </tr>\n",
              "  </thead>\n",
              "  <tbody>\n",
              "    <tr>\n",
              "      <th>category_id</th>\n",
              "      <td>1.000000</td>\n",
              "      <td>-0.168231</td>\n",
              "      <td>-0.173921</td>\n",
              "      <td>-0.033547</td>\n",
              "      <td>-0.076307</td>\n",
              "    </tr>\n",
              "    <tr>\n",
              "      <th>views</th>\n",
              "      <td>-0.168231</td>\n",
              "      <td>1.000000</td>\n",
              "      <td>0.849177</td>\n",
              "      <td>0.472213</td>\n",
              "      <td>0.617621</td>\n",
              "    </tr>\n",
              "    <tr>\n",
              "      <th>likes</th>\n",
              "      <td>-0.173921</td>\n",
              "      <td>0.849177</td>\n",
              "      <td>1.000000</td>\n",
              "      <td>0.447186</td>\n",
              "      <td>0.803057</td>\n",
              "    </tr>\n",
              "    <tr>\n",
              "      <th>dislikes</th>\n",
              "      <td>-0.033547</td>\n",
              "      <td>0.472213</td>\n",
              "      <td>0.447186</td>\n",
              "      <td>1.000000</td>\n",
              "      <td>0.700184</td>\n",
              "    </tr>\n",
              "    <tr>\n",
              "      <th>comment_count</th>\n",
              "      <td>-0.076307</td>\n",
              "      <td>0.617621</td>\n",
              "      <td>0.803057</td>\n",
              "      <td>0.700184</td>\n",
              "      <td>1.000000</td>\n",
              "    </tr>\n",
              "  </tbody>\n",
              "</table>\n",
              "</div>\n",
              "      <button class=\"colab-df-convert\" onclick=\"convertToInteractive('df-0fe105e4-8fa0-43c1-b136-20f68adde3f2')\"\n",
              "              title=\"Convert this dataframe to an interactive table.\"\n",
              "              style=\"display:none;\">\n",
              "        \n",
              "  <svg xmlns=\"http://www.w3.org/2000/svg\" height=\"24px\"viewBox=\"0 0 24 24\"\n",
              "       width=\"24px\">\n",
              "    <path d=\"M0 0h24v24H0V0z\" fill=\"none\"/>\n",
              "    <path d=\"M18.56 5.44l.94 2.06.94-2.06 2.06-.94-2.06-.94-.94-2.06-.94 2.06-2.06.94zm-11 1L8.5 8.5l.94-2.06 2.06-.94-2.06-.94L8.5 2.5l-.94 2.06-2.06.94zm10 10l.94 2.06.94-2.06 2.06-.94-2.06-.94-.94-2.06-.94 2.06-2.06.94z\"/><path d=\"M17.41 7.96l-1.37-1.37c-.4-.4-.92-.59-1.43-.59-.52 0-1.04.2-1.43.59L10.3 9.45l-7.72 7.72c-.78.78-.78 2.05 0 2.83L4 21.41c.39.39.9.59 1.41.59.51 0 1.02-.2 1.41-.59l7.78-7.78 2.81-2.81c.8-.78.8-2.07 0-2.86zM5.41 20L4 18.59l7.72-7.72 1.47 1.35L5.41 20z\"/>\n",
              "  </svg>\n",
              "      </button>\n",
              "      \n",
              "  <style>\n",
              "    .colab-df-container {\n",
              "      display:flex;\n",
              "      flex-wrap:wrap;\n",
              "      gap: 12px;\n",
              "    }\n",
              "\n",
              "    .colab-df-convert {\n",
              "      background-color: #E8F0FE;\n",
              "      border: none;\n",
              "      border-radius: 50%;\n",
              "      cursor: pointer;\n",
              "      display: none;\n",
              "      fill: #1967D2;\n",
              "      height: 32px;\n",
              "      padding: 0 0 0 0;\n",
              "      width: 32px;\n",
              "    }\n",
              "\n",
              "    .colab-df-convert:hover {\n",
              "      background-color: #E2EBFA;\n",
              "      box-shadow: 0px 1px 2px rgba(60, 64, 67, 0.3), 0px 1px 3px 1px rgba(60, 64, 67, 0.15);\n",
              "      fill: #174EA6;\n",
              "    }\n",
              "\n",
              "    [theme=dark] .colab-df-convert {\n",
              "      background-color: #3B4455;\n",
              "      fill: #D2E3FC;\n",
              "    }\n",
              "\n",
              "    [theme=dark] .colab-df-convert:hover {\n",
              "      background-color: #434B5C;\n",
              "      box-shadow: 0px 1px 3px 1px rgba(0, 0, 0, 0.15);\n",
              "      filter: drop-shadow(0px 1px 2px rgba(0, 0, 0, 0.3));\n",
              "      fill: #FFFFFF;\n",
              "    }\n",
              "  </style>\n",
              "\n",
              "      <script>\n",
              "        const buttonEl =\n",
              "          document.querySelector('#df-0fe105e4-8fa0-43c1-b136-20f68adde3f2 button.colab-df-convert');\n",
              "        buttonEl.style.display =\n",
              "          google.colab.kernel.accessAllowed ? 'block' : 'none';\n",
              "\n",
              "        async function convertToInteractive(key) {\n",
              "          const element = document.querySelector('#df-0fe105e4-8fa0-43c1-b136-20f68adde3f2');\n",
              "          const dataTable =\n",
              "            await google.colab.kernel.invokeFunction('convertToInteractive',\n",
              "                                                     [key], {});\n",
              "          if (!dataTable) return;\n",
              "\n",
              "          const docLinkHtml = 'Like what you see? Visit the ' +\n",
              "            '<a target=\"_blank\" href=https://colab.research.google.com/notebooks/data_table.ipynb>data table notebook</a>'\n",
              "            + ' to learn more about interactive tables.';\n",
              "          element.innerHTML = '';\n",
              "          dataTable['output_type'] = 'display_data';\n",
              "          await google.colab.output.renderOutput(dataTable, element);\n",
              "          const docLink = document.createElement('div');\n",
              "          docLink.innerHTML = docLinkHtml;\n",
              "          element.appendChild(docLink);\n",
              "        }\n",
              "      </script>\n",
              "    </div>\n",
              "  </div>\n",
              "  "
            ]
          },
          "metadata": {},
          "execution_count": 17
        }
      ]
    },
    {
      "cell_type": "code",
      "source": [
        "plt.imshow(videos[ncols].corr(), clim=(-1,1));   #specifico il range di colori\n",
        "plt.imshow(videos[ncols].corr(), cmap=\"RdBu\");\n",
        "\n",
        "plt.colorbar();\n",
        "plt.xticks([0,1,2,3,4], videos[ncols].columns,rotation = 45);\n",
        "plt.yticks([0,1,2,3,4], videos[ncols].columns,rotation = 45);\n",
        "\n",
        "\n",
        "#Volendo sistemare per eliminare la colonna dell category ID tanto non serve a nulla\n",
        "\n"
      ],
      "metadata": {
        "colab": {
          "base_uri": "https://localhost:8080/",
          "height": 323
        },
        "id": "zCwKZhSMHyQh",
        "outputId": "53ee19dd-7b2f-428e-e55d-01fbb27ea231"
      },
      "execution_count": null,
      "outputs": [
        {
          "output_type": "display_data",
          "data": {
            "text/plain": [
              "<Figure size 432x288 with 2 Axes>"
            ],
            "image/png": "[encoded data removed]"
          },
          "metadata": {
            "needs_background": "light"
          }
        }
      ]
    },
    {
      "cell_type": "markdown",
      "source": [
        "\n",
        "#Lezione 5 (era esercitazione)\n",
        "\n"
      ],
      "metadata": {
        "id": "cnZS-JRg2FgV"
      }
    },
    {
      "cell_type": "markdown",
      "source": [
        "#Lezione 6\n",
        "\n",
        "Riparto dal Null hipothesis rejection testing (framework)\n",
        "e dal principio di falsificabilità\n",
        "\n",
        "non raccolgo dati per confermare il modello ma per cercare di falsificarlo, se non vedo il fenomeno predetto allora la mia teoria è falsificata \n",
        "\n",
        "Meglio specificare all'inizio della collezione dei dati o dell'analisi a quanti sigma settiamo il threshold, se no potremmo essere tentati di settarlo in modo tale da farci fasificare la teoria\n",
        "\n",
        "Se capita nell'esame un null hipothesis rejection testing (per esempio per verificare se i dati sono gaussiani) è importante specificare all'inizio il threshold\n",
        "\n",
        "Nel nostro caso la null hipothesis non è la teoria nuova ma quella che sostengo sia sorpassata, in pratica se voglio settare la mia analisi in questo framework: \n",
        "- creo la mia preidizione (nessun data analysis ma soltanto teoria), sto facendo la mia ipotesi (null hipothesis = teoria che assumo sia vera)\n",
        "- definisco qual è la alternative hipotesis, cioè quello che rimane se la mia teoria viene rigettata, è importante che siano le uniche due possibilità, altrimenti il solo risultato è quello di rigettare lo status quo, non di creare un nuovo modello. ovvero la alternative hypothesis deve essere il complemento della null hypothesis\n",
        "\n",
        "  Esempio: terra piatta è la mia null hipothesis, la mia alternative non può essere che è rotonda, ma che è non-piatta\n",
        "\n",
        "- Setto la confidenza (threshold) tipicamente in termini di sigma \n",
        "\n",
        "- Cerco la quantità misutrabile che una volta misurata mi permette di confermare o rigettare la null hipothesis. \n",
        "Cosa prendo? *Pivotal_quantities*, cioè quantità che secondo la null hipothesis seguono una distribuzione conosciuta\n",
        "\n",
        "  Esempio test del chi quadro: \n",
        "  ....\n",
        "\n",
        "##Critiche al modello \n",
        "\n",
        "critica alla scelta del threshold, che è arbitraria, non ho motivi per dire che 5 percento sia alta o bassa\n",
        "\n",
        "In più complica il \"metaanalysis\", cioè stessi dati ma conclusioni differenti perchè il threshold è stato scelto diverso \n",
        "\n",
        "\n",
        "\n",
        "##Z-test\n",
        "valuto se la media di un sample con varianza nota è la stessa di tutta la popolazione\n",
        "\n",
        "Pivotal quantity: $Z=(\\bar{X}-\\mu0)/s$\n",
        "\n",
        "$\\bar{X}$ è la media del sample\n",
        "$\\mu0$ è la media della popolazione\n",
        "s è la varianza del sample: standar deviation del modello diviso la radice del numero di elementi nel sample\n",
        "\n",
        "Mi aspetto che la Z sia distribuita come una gaussiana standard, cioè media nulla e sigma=1\n",
        "\n",
        "Rigetto il modello se la z che ho \"estratto\" da questa distribuzione calcolandola è più lontana di threshold-sigma allora rigetto\n",
        "\n",
        "Visto che mi aspetto una normale con sigma=1 la z che ottengo rappresenta già il numero di deviazioni di distanza dalla media \n",
        "\n",
        "##T-test\n",
        "Sono le medie di due sample diversi significativamente differenti?\n",
        "\n",
        "La distribuzione che mi aspetto non è gaussiana ma student's t distribution\n",
        "ha come parametro i gradi di libertà \n",
        "\n",
        "Molto spesso posso definire dei valori specifici sulla base del parametro, cioè il valore che misuto a una certa threshold, faccio la tabella e non devo preoccuparmi di fare altri conti\n",
        "\n",
        "\n",
        "#K-S test\n",
        "kolmogorov-smirnoff\n",
        "\n",
        "due sample vengono dalla stessa distribuzione(che non mi interessa!)\n",
        "non è parametrico!\n",
        "ho due distribuzioni che non sono gaussiane ma voglio vedere se sono la stessa distribuzione(nel limite dei dati) \n",
        "posso usare il KS test\n",
        "\n",
        "misura, nello spazio delle distribuzioni cumulative, qual è la massima distanza parallela all'asse y, quindi molto ez\n",
        "\n",
        "distribuita come una chi sqare dist\n",
        "\n",
        "Relaziono questa distanza a una quantità che ha una specifica distribuzione che è complicata ma non mi interessa\n",
        "\n",
        "la funzione ritorna la statistica(distanza massiama) e il pvalue, il punto sul quale il mio test ricade nella distribuzione attesa \n",
        "\n",
        "\n",
        "\n",
        "\n"
      ],
      "metadata": {
        "id": "ZdAa-uScOUlP"
      }
    },
    {
      "cell_type": "markdown",
      "source": [
        "###Approccio bayesiano\n",
        "\n",
        "Parleremo di prior, che deve essere copletamente scollegato dall'evidenza che sto analizzando: deve venire da dati copletamente differenti o esperienze che mi portano a credere qualcosa ma che non hanno niente a che vedere con i dati in questione\n",
        "Probabilità del modello dati i dati = probabilità del modello (prior) * probabilità dei dati dato il modello (concetto simile al chi square test) / probabilità dei dati regardless of the model (evidence: non ha senso, non ci sono esempi in cui con buona confidenza si può sapere la probabilità intrinseca dei dati, motivo per cui l'approccio bayesiano non ha avuto molta fama in passato) \n",
        "\n",
        "![image.png](data:image/png;base64,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)\n",
        "\n",
        "\n",
        "per noi l'evidence non sarà un problema\n",
        "quello che misuro è il posterior\n",
        "\n",
        "Posso fare un analisi per vedere se un certo set di parametri ha una probabilità maggiore di un altro set, è per questo che non mi interessa l'evidenza, confronto due posterior costruiti sugli stessi dati, in cui però cambio il set di parametri, in questo modo l'evidence, che compare al denominatore, è la stessa e la butto via!\n",
        "\n",
        "Non posso usare il teorema per fare comparazione di modelli differenti se non si prestano agli stessi dati, cioè se ho un dataset e quindi una evidence differente.\n",
        "\n",
        "Il modo in cui utilizzeremo il teorema di bayes è per model comaprison e anche per ottimizzazione, per es MCMC procede in questo modo, calcolando la posterior per i vari set di parametri. \n",
        "\n",
        "Posso pensare al prior come un contstrain al modello, per es se so che i parametri non possono essere negativi posso settare un prior che esclude la regione proibita, comunemente lo uso per restringere la dimensione dello spazio dei parametri, se ho un intuizione per dove possa essere la soluzione potrei mettere un prior che è una gaussiana, non è strettamente corretto ma se scelgo un prior a supporto illimitato il modello può sempre arrivare a qualucnque posterior se lo lascio abbastanza tempo, ma è dannoso se ho poche risorse computazionali e non posso lasciare andare l'analisi troppo a lungo.\n",
        "\n",
        "\n",
        "\"uninformative prior\": probabilità uniforme per tutti i valori, ma attenzione che se faccio delle trasformazioni potrei cambiarne la forma!\n",
        "\n",
        "Likelihood è il modello\n",
        "\n",
        " "
      ],
      "metadata": {
        "id": "XjGvf0gqZYuz"
      }
    },
    {
      "cell_type": "markdown",
      "source": [
        "##Scaling laws\n",
        "\n",
        "Quantità che dipendono dalla stessa grandezza ma a potenze diverse, per esempio area e volume di un vubo dipendono sempre dalla lunghezza del lato ma a potenze differenti, stesssa cosa anche per cerchio e sfera, mi interessa solo la potenza del parametro del modello\n",
        "\n",
        "interessanti perchè se vedo una relazione di tipo scaling posso relazionarla a un modello che la prevedeva.\n",
        "\n",
        "###Terremoti\n",
        "Esistenza di una scling law nell'intervallo tra terremoti sulla base della magnitudo\n",
        "\n",
        "L'idea è di usare il KS test separando il sample totale il sottosamples che sono identificati da magnitudini specifiche.\n",
        "Si può verificare che se esiste una scaling law, allora la distribuzione della probabilità di avere un terremoto in funzione ...\n",
        "\n",
        "Insomma faccio un KS test e se non posso rigettare l'ipotesi allora vuol dire che non posso dire che non esiste una scaling law per i terremoti.\n",
        "\n",
        "\n",
        "\n",
        "\n"
      ],
      "metadata": {
        "id": "v9GCzXo1eQs2"
      }
    },
    {
      "cell_type": "code",
      "source": [],
      "metadata": {
        "id": "KZuCz5O4V8Tk"
      },
      "execution_count": null,
      "outputs": []
    },
    {
      "cell_type": "code",
      "source": [],
      "metadata": {
        "id": "fGikbLO-V8Ql"
      },
      "execution_count": null,
      "outputs": []
    },
    {
      "cell_type": "code",
      "source": [],
      "metadata": {
        "id": "_hTFXb28IsSD"
      },
      "execution_count": null,
      "outputs": []
    }
  ]
}