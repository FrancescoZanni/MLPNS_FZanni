{
  "nbformat": 4,
  "nbformat_minor": 0,
  "metadata": {
    "colab": {
      "provenance": [],
      "authorship_tag": "ABX9TyMJccchH/GOtwSp4KqBSxrZ",
      "include_colab_link": true
    },
    "kernelspec": {
      "name": "python3",
      "display_name": "Python 3"
    },
    "language_info": {
      "name": "python"
    }
  },
  "cells": [
    {
      "cell_type": "markdown",
      "metadata": {
        "id": "view-in-github",
        "colab_type": "text"
      },
      "source": [
        "<a href=\"https://colab.research.google.com/github/FrancescoZanni/MLPNS_FZanni/blob/main/MLPNS_NN1.ipynb\" target=\"_parent\"><img src=\"https://colab.research.google.com/assets/colab-badge.svg\" alt=\"Open In Colab\"/></a>"
      ]
    },
    {
      "cell_type": "markdown",
      "source": [
        "###Primo esempio di shallow NN\n",
        "\n",
        "https://iamtrask.github.io/2015/07/12/basic-python-network/"
      ],
      "metadata": {
        "id": "kbbSqf6tKAhh"
      }
    },
    {
      "cell_type": "code",
      "execution_count": null,
      "metadata": {
        "id": "AOFd9Nq0J9A2"
      },
      "outputs": [],
      "source": [
        "import numpy as np \n",
        "import pylab as pl \n"
      ]
    },
    {
      "cell_type": "code",
      "source": [
        "#set molto piccolo di osservazioni e variabili (definite ad hoc per convergere, \n",
        "#non è scontato che cambiando i valori iniziali continui a convergere)\n",
        "X = np.array([[0,0,1],[1,1,1],[1,0,1],[0,1,1]])\n"
      ],
      "metadata": {
        "id": "hK2ZR4dqKU3O"
      },
      "execution_count": null,
      "outputs": []
    },
    {
      "cell_type": "code",
      "source": [
        "pl.imshow(X)\n",
        "pl.axis(\"off\")"
      ],
      "metadata": {
        "colab": {
          "base_uri": "https://localhost:8080/",
          "height": 424
        },
        "id": "WXNZ0CbuK1Wm",
        "outputId": "629a1eb6-94bd-434d-c0a3-6f7002b59442"
      },
      "execution_count": null,
      "outputs": [
        {
          "output_type": "execute_result",
          "data": {
            "text/plain": [
              "(-0.5, 2.5, 3.5, -0.5)"
            ]
          },
          "metadata": {},
          "execution_count": 5
        },
        {
          "output_type": "display_data",
          "data": {
            "text/plain": [
              "<Figure size 640x480 with 1 Axes>"
            ],
            "image/png": "[encoded data removed]"
          },
          "metadata": {}
        }
      ]
    },
    {
      "cell_type": "code",
      "source": [
        "y=np.array([[0,1,1,0]]).T\n",
        "y"
      ],
      "metadata": {
        "colab": {
          "base_uri": "https://localhost:8080/"
        },
        "id": "E05L1103LFyI",
        "outputId": "24ea3c13-cbb8-4c92-ff0f-1662b30555a7"
      },
      "execution_count": null,
      "outputs": [
        {
          "output_type": "execute_result",
          "data": {
            "text/plain": [
              "array([[0],\n",
              "       [1],\n",
              "       [1],\n",
              "       [0]])"
            ]
          },
          "metadata": {},
          "execution_count": 8
        }
      ]
    },
    {
      "cell_type": "code",
      "source": [
        "y.shape"
      ],
      "metadata": {
        "colab": {
          "base_uri": "https://localhost:8080/"
        },
        "id": "gjtAm_f5LPht",
        "outputId": "a0f2252d-8c68-420f-dfc0-b7c9f9176284"
      },
      "execution_count": null,
      "outputs": [
        {
          "output_type": "execute_result",
          "data": {
            "text/plain": [
              "(4, 1)"
            ]
          },
          "metadata": {},
          "execution_count": 9
        }
      ]
    },
    {
      "cell_type": "code",
      "source": [
        "print(\"input: \", X)\n",
        "print(\"output: \", y)\n",
        "#l'idea è di predire l'output sulla base della matrice"
      ],
      "metadata": {
        "colab": {
          "base_uri": "https://localhost:8080/"
        },
        "id": "gQm9ixU2LQEM",
        "outputId": "47ca820c-c8b6-493a-c5e5-fb8cc24ef614"
      },
      "execution_count": null,
      "outputs": [
        {
          "output_type": "stream",
          "name": "stdout",
          "text": [
            "input:  [[0 0 1]\n",
            " [1 1 1]\n",
            " [1 0 1]\n",
            " [0 1 1]]\n",
            "output:  [[0]\n",
            " [1]\n",
            " [1]\n",
            " [0]]\n"
          ]
        }
      ]
    },
    {
      "cell_type": "code",
      "source": [
        "#Lo faccio con un SLP\n",
        "# 4 osservazioni, 3 neuroni, 1 layer\n",
        "# i pesi e i bias vengono imparati, la activation function è un hyperparameter\n",
        "#voglio che il risultato sia probabilistico! poi posso convertirlo su 1 e 0 stabilendo una threshold ma sta a me deciderlo a pposteriori\n",
        "\n",
        "#ovviamente SIGMOID\n",
        "\n",
        "def sigmoid(x): \n",
        "  return 1./(1.+ np.exp(-x))\n",
        "  "
      ],
      "metadata": {
        "id": "fxfWlIWeLbdq"
      },
      "execution_count": null,
      "outputs": []
    },
    {
      "cell_type": "code",
      "source": [
        "#piccolo check che funzioni bene \n",
        "pl.plot(sigmoid(np.arange(-10,10,0.1)))"
      ],
      "metadata": {
        "colab": {
          "base_uri": "https://localhost:8080/",
          "height": 448
        },
        "id": "FRN6eFHBMMkU",
        "outputId": "f5940581-e0b4-42c2-9f75-1d8735e83695"
      },
      "execution_count": null,
      "outputs": [
        {
          "output_type": "execute_result",
          "data": {
            "text/plain": [
              "[<matplotlib.lines.Line2D at 0x7f59d34a4d90>]"
            ]
          },
          "metadata": {},
          "execution_count": 14
        },
        {
          "output_type": "display_data",
          "data": {
            "text/plain": [
              "<Figure size 640x480 with 1 Axes>"
            ],
            "image/png": "[encoded data removed]"
          },
          "metadata": {}
        }
      ]
    },
    {
      "cell_type": "code",
      "source": [
        "#ora devo creare l'architettura\n",
        "#PRIMA ANCORA devo definire la LOSS FUNCTION \n",
        "\n",
        "#tratto ciascun data punto come se fosse un dataset: non sommo le distanze ma ritorno un vettore delle distanze\n",
        "# uso L1 per semplicità e non uso neanche il valore assoluto \n",
        "def loss(prediction, target): \n",
        "  return target-prediction\n",
        "  "
      ],
      "metadata": {
        "id": "mjTA7xtaMUp-"
      },
      "execution_count": null,
      "outputs": []
    },
    {
      "cell_type": "code",
      "source": [
        "#Ho bisogno della derivata della act funct per poter calcolare il gradiente\n",
        "def dsigmoid(x): \n",
        "  return x * (1. -x)"
      ],
      "metadata": {
        "id": "z_0gP1USNAYY"
      },
      "execution_count": null,
      "outputs": []
    },
    {
      "cell_type": "code",
      "source": [
        "#Ora si che posso iniziare con il NN\n",
        "\n",
        "#devo inizializzare i weights e bias, che poi ottimizzerò usando il gradient descent\n",
        "\n",
        "np.random.seed(420)\n",
        "training = 6000"
      ],
      "metadata": {
        "id": "TwIvccHUMxbH"
      },
      "execution_count": null,
      "outputs": []
    },
    {
      "cell_type": "code",
      "source": [
        "#layer di synapsi/neuroni \n",
        "# 4 x 3 dot 3 x 1 boh controlla\n",
        "\n",
        "syn0 = 2* np.random.random((3,1)) -1 #inizializzo i pesi\n",
        "#per semplificare il bias è zero e non lo uso \n",
        "syn0"
      ],
      "metadata": {
        "colab": {
          "base_uri": "https://localhost:8080/"
        },
        "id": "4LOHxfMqOHnD",
        "outputId": "6d30d4fc-7e56-4af2-f16c-c0654f223c44"
      },
      "execution_count": null,
      "outputs": [
        {
          "output_type": "execute_result",
          "data": {
            "text/plain": [
              "array([[-0.36870817],\n",
              "       [-0.09393865],\n",
              "       [-0.46603547]])"
            ]
          },
          "metadata": {},
          "execution_count": 57
        }
      ]
    },
    {
      "cell_type": "code",
      "source": [
        "\n",
        "\n",
        "\n",
        "loss_output = []\n",
        "\n",
        "for iter in range(training):\n",
        "  input_layer = X #potrebbe stare fuori dal loop\n",
        "\n",
        "  #parte di FORWARD PROPAGATION \n",
        "  l1 = np.dot(input_layer,syn0)  #dot prod tra l'input e il layer di sinapsi, è la sommma pesata \n",
        "\n",
        "\n",
        "  #ACTIVATION FUNCTION\n",
        "  output = sigmoid(l1) #passo alla sigmoide e questo è il mio outpu, senon volessi tarinare avrei finito \n",
        "  #siccome voglio traiare cambio le sinapsi \n",
        "\n",
        "  #Calcolo errore\n",
        "  output_error = loss(output,y)\n",
        "  loss_output.append(np.abs(output_error).sum())\n",
        "\n",
        "  #come cambio i pesi sulla base dell' errore?\n",
        "  #CALCOLO LA CORREZIONE \n",
        "  output_delta = output_error * dsigmoid(output) #moltiplico l'errore per il gradiente (gradient descent)\n",
        "\n",
        "  #APPLICO LA CORREZIONE \n",
        "  syn0 += np.dot(input_layer.T, output_delta) #è quello che con più layer si chiamerà BACK PROPAGATION\n",
        "\n",
        "\n",
        "print(\"output after cleanning: \", output)\n",
        "print(\"target: \", y)\n"
      ],
      "metadata": {
        "colab": {
          "base_uri": "https://localhost:8080/"
        },
        "id": "yxSxnaREOcND",
        "outputId": "b776cda7-b5da-434f-d1b9-58a13d5d9558"
      },
      "execution_count": null,
      "outputs": [
        {
          "output_type": "stream",
          "name": "stdout",
          "text": [
            "output after cleanning:  [[1.20535517e-03]\n",
            " [9.98979015e-01]\n",
            " [9.99320410e-01]\n",
            " [8.02360079e-04]]\n",
            "target:  [[0]\n",
            " [1]\n",
            " [1]\n",
            " [0]]\n"
          ]
        }
      ]
    },
    {
      "cell_type": "code",
      "source": [
        "pl.plot(loss_output, label=\"output\")\n",
        "pl.legend()\n",
        "pl.xlabel(\"Iteration(epoch)\")\n",
        "pl.ylabel(\"Global Loss\")\n",
        "\n",
        "#OSS se faccio girare più volte parto dal sistema già termalizzato, quindi la curva cambia!"
      ],
      "metadata": {
        "colab": {
          "base_uri": "https://localhost:8080/",
          "height": 467
        },
        "id": "f_qTBhOEQIag",
        "outputId": "4edc5ee5-0e00-42e8-e096-3e7cbfbe0782"
      },
      "execution_count": null,
      "outputs": [
        {
          "output_type": "execute_result",
          "data": {
            "text/plain": [
              "Text(0, 0.5, 'Global Loss')"
            ]
          },
          "metadata": {},
          "execution_count": 60
        },
        {
          "output_type": "display_data",
          "data": {
            "text/plain": [
              "<Figure size 640x480 with 1 Axes>"
            ],
            "image/png": "[encoded data removed]"
          },
          "metadata": {}
        }
      ]
    },
    {
      "cell_type": "markdown",
      "source": [
        "#Doppio layer"
      ],
      "metadata": {
        "id": "96eeHcFHZoK3"
      }
    },
    {
      "cell_type": "code",
      "source": [
        "\n",
        "syn0 = 2* np.random.random((3,5)) -1 #inizializzo i pesi\n",
        "\n",
        "syn1 = 2* np.random.random((5,1)) -1\n",
        "\n",
        "\n",
        "\n",
        "loss_output = []\n",
        "loss_hidden = []\n",
        "\n",
        "for iter in range(training):\n",
        "  input_layer = X \n",
        "  l1 = np.dot(input_layer,syn0)\n",
        "  hidden =sigmoid(l1)\n",
        "  \n",
        "  hidden_error=loss(hidden,y)\n",
        "  loss_hidden.append(np.abs(hidden_error).sum())\n",
        "\n",
        "  l2=np.dot(hidden,syn1)\n",
        "\n",
        "  \n",
        "  output = sigmoid(l2)\n",
        "  output_error = loss(output,y)\n",
        "  loss_output.append(np.abs(output_error).sum())\n",
        "\n",
        "\n",
        "\n",
        "  #CALCOLO LA CORREZIONE \n",
        "  output_delta = output_error * dsigmoid(output) #moltiplico l'errore per il gradiente (gradient descent)\n",
        "  hidden_delta = hidden_error * dsigmoid(hidden)\n",
        "  #APPLICO LA CORREZIONE \n",
        "  syn0 += np.dot(input_layer.T, hidden_delta) #è quello che con più layer si chiamerà BACK PROPAGATION\n",
        "  syn1 += np.dot(hidden.T, output_delta)\n",
        "\n",
        "print(\"output after cleanning: \", output)\n",
        "print(\"target: \", y)\n"
      ],
      "metadata": {
        "colab": {
          "base_uri": "https://localhost:8080/"
        },
        "id": "EohS2OgTQwrf",
        "outputId": "d97256dd-5c5a-406d-ee3c-18db72edfe08"
      },
      "execution_count": 77,
      "outputs": [
        {
          "output_type": "stream",
          "name": "stdout",
          "text": [
            "output after cleanning:  [[0.50219633]\n",
            " [0.99931196]\n",
            " [0.99931367]\n",
            " [0.50146141]]\n",
            "target:  [[0]\n",
            " [1]\n",
            " [1]\n",
            " [0]]\n"
          ]
        }
      ]
    },
    {
      "cell_type": "code",
      "source": [
        "pl.plot(loss_output, label=\"output\")\n",
        "pl.plot(loss_hidden, label=\"Hidden\")\n",
        "pl.plot()\n",
        "pl.legend()\n",
        "pl.xlabel(\"Iteration(epoch)\")\n",
        "pl.ylabel(\"Global Loss\")\n",
        "\n",
        "#OSS se faccio girare più volte parto dal sistema già termalizzato, quindi la curva cambia!"
      ],
      "metadata": {
        "colab": {
          "base_uri": "https://localhost:8080/",
          "height": 467
        },
        "id": "fjnDQVCQgSQV",
        "outputId": "8dcfb380-88df-433b-f108-e5d7436e4f52"
      },
      "execution_count": 78,
      "outputs": [
        {
          "output_type": "execute_result",
          "data": {
            "text/plain": [
              "Text(0, 0.5, 'Global Loss')"
            ]
          },
          "metadata": {},
          "execution_count": 78
        },
        {
          "output_type": "display_data",
          "data": {
            "text/plain": [
              "<Figure size 640x480 with 1 Axes>"
            ],
            "image/png": "[encoded data removed]"
          },
          "metadata": {}
        }
      ]
    },
    {
      "cell_type": "code",
      "source": [],
      "metadata": {
        "id": "Xqp760Xmgehg"
      },
      "execution_count": null,
      "outputs": []
    }
  ]
}