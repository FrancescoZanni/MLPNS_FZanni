{
  "nbformat": 4,
  "nbformat_minor": 0,
  "metadata": {
    "colab": {
      "provenance": [],
      "authorship_tag": "ABX9TyOelAVsUZcEDijX6Ixm3VRE",
      "include_colab_link": true
    },
    "kernelspec": {
      "name": "python3",
      "display_name": "Python 3"
    },
    "language_info": {
      "name": "python"
    }
  },
  "cells": [
    {
      "cell_type": "markdown",
      "metadata": {
        "id": "view-in-github",
        "colab_type": "text"
      },
      "source": [
        "<a href=\"https://colab.research.google.com/github/FrancescoZanni/MLPNS_FZanni/blob/main/MLPNS_Week2.ipynb\" target=\"_parent\"><img src=\"https://colab.research.google.com/assets/colab-badge.svg\" alt=\"Open In Colab\"/></a>"
      ]
    },
    {
      "cell_type": "markdown",
      "source": [
        "#Lezione 4\n",
        "Regole per la riproducibilita: \n",
        "- I dati devono essere accessibili a tutti, vanno shareati per es su github\n",
        "- Setto sempre il seed a un qualche numero, così se lo faccio girare di nuovo ottengo la stessa cosa\n",
        "- Prima di consegnare fare un restart and run all, così mi assicuro che funzioni con la sequenza di celle corretta \n",
        "\n",
        "Regole di igiene del codice: \n",
        "- Axis labels\n",
        "- Caption: spiega tutto quello che c'è nel plot (tipo legenda) dice cosa c'è di interessante nel plot\n",
        "- Evitare i numeri \"volanti\", se stampo un numero stampo anche che cosa è e cosa significa\n",
        "\n",
        "- Importare sempre tutto quello che serve all'inizio del codice\n",
        "\n",
        "##Primo argomento Probabilità e statistica\n",
        "\n",
        "onlinestatbook.com\n",
        "\n",
        "### Probabilità\n",
        " Due interpretazioni: di solito concetto frequentista, ma in molti dei modelli e dei pacchetti che useremo aderiscono all'interpretazione Bayesiana\n",
        "\n",
        " - Frequentista: probabilità = frequenza (soggetto a deviazioni)(non prendo il limite?) \n",
        " - Bayesiana: introduco un prior (conoscenza a priori) che arricchisce la mia interpretazione della frequenza (se io sono a casa e ho uan moenta e voglio predire la probabilità di testa o croce già parto pensando che sarà il 50% se è uno per strada penso che la moneta possa essere truccata).\n",
        "\n",
        " Dal punto di vista frequentista penso che ripetendo un esperimento più volte avrò una corrispondenza più accurata tra frequenza e probabilità ( legge dei grandi numeri) \n",
        "\n",
        "\n",
        "Vedi slide con gli operatori e l'aritmetica: \n",
        "https://slides.com/federicabianco/mlpns23_2\n",
        "\n",
        "\n",
        " ### Statistica\n",
        "\n",
        " la statistica si basa sulla teoria della probabilità ed è alla base dell'analisi.\n",
        " Ci porta dall'osservazione di un sample a fare inferenze su tutta la popolazione \n",
        "\n",
        " #### Distribuzione:\n",
        " formula, modello \n",
        " #### Popolazione: \n",
        " tutti gli elementi \n",
        " #### Sample:\n",
        "  subset limitato della popolazione, quello su cui di solito osservo\n",
        "\n",
        "\n",
        "### Momenti della distribuzione\n",
        "\n",
        "Primo momento: media (aritmetica)\n",
        "non è la moda (picco)\n",
        "non è la mediana (mezza distribuzione a destra e mezza a sinistra)\n",
        "\n",
        "Nel codice: \n",
        "np.mean(array) come funzione, oppure \n",
        ".mean()\n",
        ".mean(axis=1) specifico l'asse rispetto al quale faccio la media \n",
        "\n",
        "np.median(array) funzione, non faccio array.median()\n",
        "\n",
        "\n",
        "Secondo momento: varianza\n",
        "\n",
        "Nel codice stessa cosa \n",
        ".std()\n",
        ".std(axis=1)\n",
        "\n",
        "Numeri da ricordare: distribuzione Gaussiana 68%, 95%, 99.7%\n",
        "Li usiamo come threshold per dire se rigetto oppure no la mia teoria\n",
        "La scelta su quanti sigma scelgo dipende dal campo di ricerca, in fisica di solito 3 e in particle physics spesso 5\n",
        "\n",
        "Nelle scenze sociali spesso si tiene anche il 2 sigma, perchè i comportamenti umani sono stocastici\n",
        "\n",
        "Interquantile range: guarda alla percentuale di valori all'interno di una certa area (solo le la distr è gaussiana o simmetrica ha una relazione stretta con la sigma )\n",
        "\n",
        "### Distribuzione binomiale \n",
        " Distribuzione che descrive il risutlato per una collezione di esperimenti, ciascuno con gli stessi outcome con probabilità di ciascun outcome costante (coin toss, truccata oppure no)\n",
        " \n",
        "- Supporto positivo\n",
        "- PMS è la distribuzione, densità di probabilità \n",
        "- Skewness momento terzo, se è simmetrica oppure no \n",
        "- Kurtosi quanto sono pesanti le code\n",
        "\n",
        "### Distr. Poisson \n",
        "Descrive la varianza su un natural statistic process: es. flusso di una stella per una quantità di tempo limitata (numero di fotoni) \n",
        "Per stocasticità della natura se è un evento steady in realtà ha una varianza e segue una distr poisson \n",
        "\n",
        "Es se misuro 100 fotoni mi aspetto che il valore vero stia in $100\\pm \\sqrt{100}$\n",
        "\n",
        "Un solo parametro: $\\lambda$\n",
        "\n",
        "### Gaussiana \n",
        "- Supporto infinito \n",
        "- Simmetrica \n",
        "- \"Continua\"\n",
        "\n",
        "Motivo per cui è simmetrica: la PDF è pari rispetto alla media \n",
        "\n",
        "Anche se quasi niente in natura è gaussiano quasi tutte le analisi statistiche assumono distr Gaussiane (limite centrale?)\n",
        "Spesso i risultati della ricerca sono corretti solo sotto l'assunzione di Gaussianità, si spera che l'approsismazione sia abbastanza buona \n",
        "\n",
        "\n",
        " \n",
        "\n",
        "\n"
      ],
      "metadata": {
        "id": "L5MFq3UAvGbx"
      }
    },
    {
      "cell_type": "code",
      "execution_count": null,
      "metadata": {
        "id": "hxWHBToZvBC-"
      },
      "outputs": [],
      "source": [
        "import pandas as pd\n",
        "import numpy as np\n",
        "import matplotlib.pyplot as plt\n",
        "\n",
        "url = \"https://bit.ly/videosfile\""
      ]
    },
    {
      "cell_type": "code",
      "source": [
        "videos = pd.read_csv(url)"
      ],
      "metadata": {
        "id": "rL9IH-xQ0iMt"
      },
      "execution_count": null,
      "outputs": []
    },
    {
      "cell_type": "code",
      "source": [
        "videos.describe() #per le colonne numeriche fa una prima analisi delle proprietà statistiche, è comunque un dataframe, posso usarlo come metodo veloce per estrarre le colonne numeriche"
      ],
      "metadata": {
        "colab": {
          "base_uri": "https://localhost:8080/",
          "height": 300
        },
        "id": "aLRCouY0ExYG",
        "outputId": "4f446de9-d4bb-4ad0-8b08-c6be08e00a0b"
      },
      "execution_count": null,
      "outputs": [
        {
          "output_type": "execute_result",
          "data": {
            "text/plain": [
              "        category_id         views         likes      dislikes  comment_count\n",
              "count  40949.000000  4.094900e+04  4.094900e+04  4.094900e+04   4.094900e+04\n",
              "mean      19.972429  2.360785e+06  7.426670e+04  3.711401e+03   8.446804e+03\n",
              "std        7.568327  7.394114e+06  2.288853e+05  2.902971e+04   3.743049e+04\n",
              "min        1.000000  5.490000e+02  0.000000e+00  0.000000e+00   0.000000e+00\n",
              "25%       17.000000  2.423290e+05  5.424000e+03  2.020000e+02   6.140000e+02\n",
              "50%       24.000000  6.818610e+05  1.809100e+04  6.310000e+02   1.856000e+03\n",
              "75%       25.000000  1.823157e+06  5.541700e+04  1.938000e+03   5.755000e+03\n",
              "max       43.000000  2.252119e+08  5.613827e+06  1.674420e+06   1.361580e+06"
            ],
            "text/html": [
              "\n",
              "  <div id=\"df-df597498-8c9c-4f73-90c9-4c5f56997a6e\">\n",
              "    <div class=\"colab-df-container\">\n",
              "      <div>\n",
              "<style scoped>\n",
              "    .dataframe tbody tr th:only-of-type {\n",
              "        vertical-align: middle;\n",
              "    }\n",
              "\n",
              "    .dataframe tbody tr th {\n",
              "        vertical-align: top;\n",
              "    }\n",
              "\n",
              "    .dataframe thead th {\n",
              "        text-align: right;\n",
              "    }\n",
              "</style>\n",
              "<table border=\"1\" class=\"dataframe\">\n",
              "  <thead>\n",
              "    <tr style=\"text-align: right;\">\n",
              "      <th></th>\n",
              "      <th>category_id</th>\n",
              "      <th>views</th>\n",
              "      <th>likes</th>\n",
              "      <th>dislikes</th>\n",
              "      <th>comment_count</th>\n",
              "    </tr>\n",
              "  </thead>\n",
              "  <tbody>\n",
              "    <tr>\n",
              "      <th>count</th>\n",
              "      <td>40949.000000</td>\n",
              "      <td>4.094900e+04</td>\n",
              "      <td>4.094900e+04</td>\n",
              "      <td>4.094900e+04</td>\n",
              "      <td>4.094900e+04</td>\n",
              "    </tr>\n",
              "    <tr>\n",
              "      <th>mean</th>\n",
              "      <td>19.972429</td>\n",
              "      <td>2.360785e+06</td>\n",
              "      <td>7.426670e+04</td>\n",
              "      <td>3.711401e+03</td>\n",
              "      <td>8.446804e+03</td>\n",
              "    </tr>\n",
              "    <tr>\n",
              "      <th>std</th>\n",
              "      <td>7.568327</td>\n",
              "      <td>7.394114e+06</td>\n",
              "      <td>2.288853e+05</td>\n",
              "      <td>2.902971e+04</td>\n",
              "      <td>3.743049e+04</td>\n",
              "    </tr>\n",
              "    <tr>\n",
              "      <th>min</th>\n",
              "      <td>1.000000</td>\n",
              "      <td>5.490000e+02</td>\n",
              "      <td>0.000000e+00</td>\n",
              "      <td>0.000000e+00</td>\n",
              "      <td>0.000000e+00</td>\n",
              "    </tr>\n",
              "    <tr>\n",
              "      <th>25%</th>\n",
              "      <td>17.000000</td>\n",
              "      <td>2.423290e+05</td>\n",
              "      <td>5.424000e+03</td>\n",
              "      <td>2.020000e+02</td>\n",
              "      <td>6.140000e+02</td>\n",
              "    </tr>\n",
              "    <tr>\n",
              "      <th>50%</th>\n",
              "      <td>24.000000</td>\n",
              "      <td>6.818610e+05</td>\n",
              "      <td>1.809100e+04</td>\n",
              "      <td>6.310000e+02</td>\n",
              "      <td>1.856000e+03</td>\n",
              "    </tr>\n",
              "    <tr>\n",
              "      <th>75%</th>\n",
              "      <td>25.000000</td>\n",
              "      <td>1.823157e+06</td>\n",
              "      <td>5.541700e+04</td>\n",
              "      <td>1.938000e+03</td>\n",
              "      <td>5.755000e+03</td>\n",
              "    </tr>\n",
              "    <tr>\n",
              "      <th>max</th>\n",
              "      <td>43.000000</td>\n",
              "      <td>2.252119e+08</td>\n",
              "      <td>5.613827e+06</td>\n",
              "      <td>1.674420e+06</td>\n",
              "      <td>1.361580e+06</td>\n",
              "    </tr>\n",
              "  </tbody>\n",
              "</table>\n",
              "</div>\n",
              "      <button class=\"colab-df-convert\" onclick=\"convertToInteractive('df-df597498-8c9c-4f73-90c9-4c5f56997a6e')\"\n",
              "              title=\"Convert this dataframe to an interactive table.\"\n",
              "              style=\"display:none;\">\n",
              "        \n",
              "  <svg xmlns=\"http://www.w3.org/2000/svg\" height=\"24px\"viewBox=\"0 0 24 24\"\n",
              "       width=\"24px\">\n",
              "    <path d=\"M0 0h24v24H0V0z\" fill=\"none\"/>\n",
              "    <path d=\"M18.56 5.44l.94 2.06.94-2.06 2.06-.94-2.06-.94-.94-2.06-.94 2.06-2.06.94zm-11 1L8.5 8.5l.94-2.06 2.06-.94-2.06-.94L8.5 2.5l-.94 2.06-2.06.94zm10 10l.94 2.06.94-2.06 2.06-.94-2.06-.94-.94-2.06-.94 2.06-2.06.94z\"/><path d=\"M17.41 7.96l-1.37-1.37c-.4-.4-.92-.59-1.43-.59-.52 0-1.04.2-1.43.59L10.3 9.45l-7.72 7.72c-.78.78-.78 2.05 0 2.83L4 21.41c.39.39.9.59 1.41.59.51 0 1.02-.2 1.41-.59l7.78-7.78 2.81-2.81c.8-.78.8-2.07 0-2.86zM5.41 20L4 18.59l7.72-7.72 1.47 1.35L5.41 20z\"/>\n",
              "  </svg>\n",
              "      </button>\n",
              "      \n",
              "  <style>\n",
              "    .colab-df-container {\n",
              "      display:flex;\n",
              "      flex-wrap:wrap;\n",
              "      gap: 12px;\n",
              "    }\n",
              "\n",
              "    .colab-df-convert {\n",
              "      background-color: #E8F0FE;\n",
              "      border: none;\n",
              "      border-radius: 50%;\n",
              "      cursor: pointer;\n",
              "      display: none;\n",
              "      fill: #1967D2;\n",
              "      height: 32px;\n",
              "      padding: 0 0 0 0;\n",
              "      width: 32px;\n",
              "    }\n",
              "\n",
              "    .colab-df-convert:hover {\n",
              "      background-color: #E2EBFA;\n",
              "      box-shadow: 0px 1px 2px rgba(60, 64, 67, 0.3), 0px 1px 3px 1px rgba(60, 64, 67, 0.15);\n",
              "      fill: #174EA6;\n",
              "    }\n",
              "\n",
              "    [theme=dark] .colab-df-convert {\n",
              "      background-color: #3B4455;\n",
              "      fill: #D2E3FC;\n",
              "    }\n",
              "\n",
              "    [theme=dark] .colab-df-convert:hover {\n",
              "      background-color: #434B5C;\n",
              "      box-shadow: 0px 1px 3px 1px rgba(0, 0, 0, 0.15);\n",
              "      filter: drop-shadow(0px 1px 2px rgba(0, 0, 0, 0.3));\n",
              "      fill: #FFFFFF;\n",
              "    }\n",
              "  </style>\n",
              "\n",
              "      <script>\n",
              "        const buttonEl =\n",
              "          document.querySelector('#df-df597498-8c9c-4f73-90c9-4c5f56997a6e button.colab-df-convert');\n",
              "        buttonEl.style.display =\n",
              "          google.colab.kernel.accessAllowed ? 'block' : 'none';\n",
              "\n",
              "        async function convertToInteractive(key) {\n",
              "          const element = document.querySelector('#df-df597498-8c9c-4f73-90c9-4c5f56997a6e');\n",
              "          const dataTable =\n",
              "            await google.colab.kernel.invokeFunction('convertToInteractive',\n",
              "                                                     [key], {});\n",
              "          if (!dataTable) return;\n",
              "\n",
              "          const docLinkHtml = 'Like what you see? Visit the ' +\n",
              "            '<a target=\"_blank\" href=https://colab.research.google.com/notebooks/data_table.ipynb>data table notebook</a>'\n",
              "            + ' to learn more about interactive tables.';\n",
              "          element.innerHTML = '';\n",
              "          dataTable['output_type'] = 'display_data';\n",
              "          await google.colab.output.renderOutput(dataTable, element);\n",
              "          const docLink = document.createElement('div');\n",
              "          docLink.innerHTML = docLinkHtml;\n",
              "          element.appendChild(docLink);\n",
              "        }\n",
              "      </script>\n",
              "    </div>\n",
              "  </div>\n",
              "  "
            ]
          },
          "metadata": {},
          "execution_count": 7
        }
      ]
    },
    {
      "cell_type": "code",
      "source": [
        "ncols=(videos.describe()).columns"
      ],
      "metadata": {
        "id": "-ZGsB0HKFDkV"
      },
      "execution_count": null,
      "outputs": []
    },
    {
      "cell_type": "code",
      "source": [
        "print(videos[\"views\"].mean())\n",
        "print(videos[\"views\"].std())"
      ],
      "metadata": {
        "colab": {
          "base_uri": "https://localhost:8080/"
        },
        "id": "jutgxaiaFgNW",
        "outputId": "eb8557ac-f655-4bcc-bf67-1dc66409b21f"
      },
      "execution_count": null,
      "outputs": [
        {
          "output_type": "stream",
          "name": "stdout",
          "text": [
            "2360784.6382573447\n",
            "7394113.75970394\n"
          ]
        }
      ]
    },
    {
      "cell_type": "code",
      "source": [
        "videos[ncols].std()"
      ],
      "metadata": {
        "colab": {
          "base_uri": "https://localhost:8080/"
        },
        "id": "crxbQDnuGEmW",
        "outputId": "38763d56-569c-4654-899e-234a82fc5d67"
      },
      "execution_count": null,
      "outputs": [
        {
          "output_type": "execute_result",
          "data": {
            "text/plain": [
              "category_id      7.568327e+00\n",
              "views            7.394114e+06\n",
              "likes            2.288853e+05\n",
              "dislikes         2.902971e+04\n",
              "comment_count    3.743049e+04\n",
              "dtype: float64"
            ]
          },
          "metadata": {},
          "execution_count": 12
        }
      ]
    },
    {
      "cell_type": "code",
      "source": [
        "videos_array = videos[ncols].values #lo rendo un array, non più un dataframe "
      ],
      "metadata": {
        "id": "G76QVju4Gpyn"
      },
      "execution_count": null,
      "outputs": []
    },
    {
      "cell_type": "code",
      "source": [
        "videos_array.mean(axis=1)"
      ],
      "metadata": {
        "colab": {
          "base_uri": "https://localhost:8080/"
        },
        "id": "4CSw50KCGu9B",
        "outputId": "b1d77b93-7d55-434c-bd94-f1373387810e"
      },
      "execution_count": null,
      "outputs": [
        {
          "output_type": "execute_result",
          "data": {
            "text/plain": [
              "array([ 164968.6,  506968.2,  670202. , ...,  223913.4, 1173941. ,\n",
              "       2204197.8])"
            ]
          },
          "metadata": {},
          "execution_count": 15
        }
      ]
    },
    {
      "cell_type": "code",
      "source": [
        "videos.corr()"
      ],
      "metadata": {
        "colab": {
          "base_uri": "https://localhost:8080/",
          "height": 206
        },
        "id": "zbLjCWQSG4Q3",
        "outputId": "2d061279-75b8-4f9a-f075-8b6cc910c116"
      },
      "execution_count": null,
      "outputs": [
        {
          "output_type": "execute_result",
          "data": {
            "text/plain": [
              "               category_id     views     likes  dislikes  comment_count\n",
              "category_id       1.000000 -0.168231 -0.173921 -0.033547      -0.076307\n",
              "views            -0.168231  1.000000  0.849177  0.472213       0.617621\n",
              "likes            -0.173921  0.849177  1.000000  0.447186       0.803057\n",
              "dislikes         -0.033547  0.472213  0.447186  1.000000       0.700184\n",
              "comment_count    -0.076307  0.617621  0.803057  0.700184       1.000000"
            ],
            "text/html": [
              "\n",
              "  <div id=\"df-0fe105e4-8fa0-43c1-b136-20f68adde3f2\">\n",
              "    <div class=\"colab-df-container\">\n",
              "      <div>\n",
              "<style scoped>\n",
              "    .dataframe tbody tr th:only-of-type {\n",
              "        vertical-align: middle;\n",
              "    }\n",
              "\n",
              "    .dataframe tbody tr th {\n",
              "        vertical-align: top;\n",
              "    }\n",
              "\n",
              "    .dataframe thead th {\n",
              "        text-align: right;\n",
              "    }\n",
              "</style>\n",
              "<table border=\"1\" class=\"dataframe\">\n",
              "  <thead>\n",
              "    <tr style=\"text-align: right;\">\n",
              "      <th></th>\n",
              "      <th>category_id</th>\n",
              "      <th>views</th>\n",
              "      <th>likes</th>\n",
              "      <th>dislikes</th>\n",
              "      <th>comment_count</th>\n",
              "    </tr>\n",
              "  </thead>\n",
              "  <tbody>\n",
              "    <tr>\n",
              "      <th>category_id</th>\n",
              "      <td>1.000000</td>\n",
              "      <td>-0.168231</td>\n",
              "      <td>-0.173921</td>\n",
              "      <td>-0.033547</td>\n",
              "      <td>-0.076307</td>\n",
              "    </tr>\n",
              "    <tr>\n",
              "      <th>views</th>\n",
              "      <td>-0.168231</td>\n",
              "      <td>1.000000</td>\n",
              "      <td>0.849177</td>\n",
              "      <td>0.472213</td>\n",
              "      <td>0.617621</td>\n",
              "    </tr>\n",
              "    <tr>\n",
              "      <th>likes</th>\n",
              "      <td>-0.173921</td>\n",
              "      <td>0.849177</td>\n",
              "      <td>1.000000</td>\n",
              "      <td>0.447186</td>\n",
              "      <td>0.803057</td>\n",
              "    </tr>\n",
              "    <tr>\n",
              "      <th>dislikes</th>\n",
              "      <td>-0.033547</td>\n",
              "      <td>0.472213</td>\n",
              "      <td>0.447186</td>\n",
              "      <td>1.000000</td>\n",
              "      <td>0.700184</td>\n",
              "    </tr>\n",
              "    <tr>\n",
              "      <th>comment_count</th>\n",
              "      <td>-0.076307</td>\n",
              "      <td>0.617621</td>\n",
              "      <td>0.803057</td>\n",
              "      <td>0.700184</td>\n",
              "      <td>1.000000</td>\n",
              "    </tr>\n",
              "  </tbody>\n",
              "</table>\n",
              "</div>\n",
              "      <button class=\"colab-df-convert\" onclick=\"convertToInteractive('df-0fe105e4-8fa0-43c1-b136-20f68adde3f2')\"\n",
              "              title=\"Convert this dataframe to an interactive table.\"\n",
              "              style=\"display:none;\">\n",
              "        \n",
              "  <svg xmlns=\"http://www.w3.org/2000/svg\" height=\"24px\"viewBox=\"0 0 24 24\"\n",
              "       width=\"24px\">\n",
              "    <path d=\"M0 0h24v24H0V0z\" fill=\"none\"/>\n",
              "    <path d=\"M18.56 5.44l.94 2.06.94-2.06 2.06-.94-2.06-.94-.94-2.06-.94 2.06-2.06.94zm-11 1L8.5 8.5l.94-2.06 2.06-.94-2.06-.94L8.5 2.5l-.94 2.06-2.06.94zm10 10l.94 2.06.94-2.06 2.06-.94-2.06-.94-.94-2.06-.94 2.06-2.06.94z\"/><path d=\"M17.41 7.96l-1.37-1.37c-.4-.4-.92-.59-1.43-.59-.52 0-1.04.2-1.43.59L10.3 9.45l-7.72 7.72c-.78.78-.78 2.05 0 2.83L4 21.41c.39.39.9.59 1.41.59.51 0 1.02-.2 1.41-.59l7.78-7.78 2.81-2.81c.8-.78.8-2.07 0-2.86zM5.41 20L4 18.59l7.72-7.72 1.47 1.35L5.41 20z\"/>\n",
              "  </svg>\n",
              "      </button>\n",
              "      \n",
              "  <style>\n",
              "    .colab-df-container {\n",
              "      display:flex;\n",
              "      flex-wrap:wrap;\n",
              "      gap: 12px;\n",
              "    }\n",
              "\n",
              "    .colab-df-convert {\n",
              "      background-color: #E8F0FE;\n",
              "      border: none;\n",
              "      border-radius: 50%;\n",
              "      cursor: pointer;\n",
              "      display: none;\n",
              "      fill: #1967D2;\n",
              "      height: 32px;\n",
              "      padding: 0 0 0 0;\n",
              "      width: 32px;\n",
              "    }\n",
              "\n",
              "    .colab-df-convert:hover {\n",
              "      background-color: #E2EBFA;\n",
              "      box-shadow: 0px 1px 2px rgba(60, 64, 67, 0.3), 0px 1px 3px 1px rgba(60, 64, 67, 0.15);\n",
              "      fill: #174EA6;\n",
              "    }\n",
              "\n",
              "    [theme=dark] .colab-df-convert {\n",
              "      background-color: #3B4455;\n",
              "      fill: #D2E3FC;\n",
              "    }\n",
              "\n",
              "    [theme=dark] .colab-df-convert:hover {\n",
              "      background-color: #434B5C;\n",
              "      box-shadow: 0px 1px 3px 1px rgba(0, 0, 0, 0.15);\n",
              "      filter: drop-shadow(0px 1px 2px rgba(0, 0, 0, 0.3));\n",
              "      fill: #FFFFFF;\n",
              "    }\n",
              "  </style>\n",
              "\n",
              "      <script>\n",
              "        const buttonEl =\n",
              "          document.querySelector('#df-0fe105e4-8fa0-43c1-b136-20f68adde3f2 button.colab-df-convert');\n",
              "        buttonEl.style.display =\n",
              "          google.colab.kernel.accessAllowed ? 'block' : 'none';\n",
              "\n",
              "        async function convertToInteractive(key) {\n",
              "          const element = document.querySelector('#df-0fe105e4-8fa0-43c1-b136-20f68adde3f2');\n",
              "          const dataTable =\n",
              "            await google.colab.kernel.invokeFunction('convertToInteractive',\n",
              "                                                     [key], {});\n",
              "          if (!dataTable) return;\n",
              "\n",
              "          const docLinkHtml = 'Like what you see? Visit the ' +\n",
              "            '<a target=\"_blank\" href=https://colab.research.google.com/notebooks/data_table.ipynb>data table notebook</a>'\n",
              "            + ' to learn more about interactive tables.';\n",
              "          element.innerHTML = '';\n",
              "          dataTable['output_type'] = 'display_data';\n",
              "          await google.colab.output.renderOutput(dataTable, element);\n",
              "          const docLink = document.createElement('div');\n",
              "          docLink.innerHTML = docLinkHtml;\n",
              "          element.appendChild(docLink);\n",
              "        }\n",
              "      </script>\n",
              "    </div>\n",
              "  </div>\n",
              "  "
            ]
          },
          "metadata": {},
          "execution_count": 17
        }
      ]
    },
    {
      "cell_type": "code",
      "source": [
        "plt.imshow(videos[ncols].corr(), clim=(-1,1));   #specifico il range di colori\n",
        "plt.imshow(videos[ncols].corr(), cmap=\"RdBu\");\n",
        "\n",
        "plt.colorbar();\n",
        "plt.xticks([0,1,2,3,4], videos[ncols].columns,rotation = 45);\n",
        "plt.yticks([0,1,2,3,4], videos[ncols].columns,rotation = 45);\n",
        "\n",
        "\n",
        "#Volendo sistemare per eliminare la colonna dell category ID tanto non serve a nulla\n",
        "\n"
      ],
      "metadata": {
        "colab": {
          "base_uri": "https://localhost:8080/",
          "height": 323
        },
        "id": "zCwKZhSMHyQh",
        "outputId": "53ee19dd-7b2f-428e-e55d-01fbb27ea231"
      },
      "execution_count": null,
      "outputs": [
        {
          "output_type": "display_data",
          "data": {
            "text/plain": [
              "<Figure size 432x288 with 2 Axes>"
            ],
            "image/png": "[encoded data removed]"
          },
          "metadata": {
            "needs_background": "light"
          }
        }
      ]
    },
    {
      "cell_type": "markdown",
      "source": [
        "#Lezione 5"
      ],
      "metadata": {
        "id": "cnZS-JRg2FgV"
      }
    },
    {
      "cell_type": "code",
      "source": [],
      "metadata": {
        "id": "_hTFXb28IsSD"
      },
      "execution_count": null,
      "outputs": []
    }
  ]
}