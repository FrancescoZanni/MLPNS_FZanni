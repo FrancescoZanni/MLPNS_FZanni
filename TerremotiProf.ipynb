{
  "nbformat": 4,
  "nbformat_minor": 0,
  "metadata": {
    "colab": {
      "provenance": [],
      "include_colab_link": true
    },
    "kernelspec": {
      "name": "python3",
      "display_name": "Python 3"
    },
    "language_info": {
      "name": "python"
    }
  },
  "cells": [
    {
      "cell_type": "markdown",
      "metadata": {
        "id": "view-in-github",
        "colab_type": "text"
      },
      "source": [
        "<a href=\"https://colab.research.google.com/github/FrancescoZanni/MLPNS_FZanni/blob/main/TerremotiProf.ipynb\" target=\"_parent\"><img src=\"https://colab.research.google.com/assets/colab-badge.svg\" alt=\"Open In Colab\"/></a>"
      ]
    },
    {
      "cell_type": "code",
      "execution_count": 1,
      "metadata": {
        "id": "M5StXuMubF64"
      },
      "outputs": [],
      "source": [
        "import pandas as pd\n",
        "import pylab as pl\n",
        "import scipy as sp\n",
        "from scipy import stats\n",
        "import numpy as np"
      ]
    },
    {
      "cell_type": "code",
      "source": [
        "eqs = pd.read_csv(\"https://github.com/fedhere/MLPNS_FBianco/blob/main/statistics/KStest/earthquakes.csv?raw=true\", sep=\" \")"
      ],
      "metadata": {
        "id": "mG9bvC_7iXr6"
      },
      "execution_count": 2,
      "outputs": []
    },
    {
      "cell_type": "code",
      "source": [
        "eqs.shape"
      ],
      "metadata": {
        "colab": {
          "base_uri": "https://localhost:8080/"
        },
        "id": "ugHg3Qthi_0E",
        "outputId": "8ea81ab3-4c9b-4a7f-fdb6-2244c14c02dd"
      },
      "execution_count": 3,
      "outputs": [
        {
          "output_type": "execute_result",
          "data": {
            "text/plain": [
              "(70798, 34)"
            ]
          },
          "metadata": {},
          "execution_count": 3
        }
      ]
    },
    {
      "cell_type": "code",
      "source": [
        "eqs.head()"
      ],
      "metadata": {
        "colab": {
          "base_uri": "https://localhost:8080/",
          "height": 317
        },
        "id": "gELm7g_bjjhN",
        "outputId": "1d02b0ba-9e8f-445d-daab-15e08a26b3fa"
      },
      "execution_count": 4,
      "outputs": [
        {
          "output_type": "execute_result",
          "data": {
            "text/plain": [
              "   #YYY/MM/DD  HH:mm:SS.ss  ET  GT MAG  Unnamed: 5  M  Unnamed: 7  Unnamed: 8  \\\n",
              "0  1984/01/01  01:30:57.52  eq NaN   l        2.02  c         NaN         NaN   \n",
              "1  1984/01/01  05:31:34.16  eq NaN   l        2.12  c         NaN         NaN   \n",
              "2  1984/01/01  06:59:05.14  eq NaN   l        2.43  c         NaN         NaN   \n",
              "3  1984/01/01  11:10:25.29  eq NaN   l        2.07  c         NaN         NaN   \n",
              "4  1984/01/01  19:38:19.79  eq NaN   l        2.13  c         NaN         NaN   \n",
              "\n",
              "   Unnamed: 9  ...     Q  Unnamed: 25  EVID Unnamed: 27 Unnamed: 28  \\\n",
              "0      33.246  ...  17.0          NaN   NaN         NaN         NaN   \n",
              "1      32.945  ...  42.0          NaN   NaN         NaN         NaN   \n",
              "2      33.343  ...  30.0          NaN   NaN         NaN         NaN   \n",
              "3      33.668  ...   NaN          NaN   NaN         NaN         NaN   \n",
              "4      33.963  ...  49.0          NaN   NaN         NaN         NaN   \n",
              "\n",
              "   Unnamed: 29  Unnamed: 30  Unnamed: 31  NPH  NGRM  \n",
              "0          NaN          NaN          NaN  NaN   NaN  \n",
              "1          NaN          NaN          NaN  NaN   NaN  \n",
              "2          NaN          NaN          NaN  NaN   NaN  \n",
              "3          NaN          NaN          NaN  NaN   NaN  \n",
              "4          NaN          NaN          NaN  NaN   NaN  \n",
              "\n",
              "[5 rows x 34 columns]"
            ],
            "text/html": [
              "\n",
              "  <div id=\"df-d2e96de6-ab61-418e-a06a-4c42266e458c\">\n",
              "    <div class=\"colab-df-container\">\n",
              "      <div>\n",
              "<style scoped>\n",
              "    .dataframe tbody tr th:only-of-type {\n",
              "        vertical-align: middle;\n",
              "    }\n",
              "\n",
              "    .dataframe tbody tr th {\n",
              "        vertical-align: top;\n",
              "    }\n",
              "\n",
              "    .dataframe thead th {\n",
              "        text-align: right;\n",
              "    }\n",
              "</style>\n",
              "<table border=\"1\" class=\"dataframe\">\n",
              "  <thead>\n",
              "    <tr style=\"text-align: right;\">\n",
              "      <th></th>\n",
              "      <th>#YYY/MM/DD</th>\n",
              "      <th>HH:mm:SS.ss</th>\n",
              "      <th>ET</th>\n",
              "      <th>GT</th>\n",
              "      <th>MAG</th>\n",
              "      <th>Unnamed: 5</th>\n",
              "      <th>M</th>\n",
              "      <th>Unnamed: 7</th>\n",
              "      <th>Unnamed: 8</th>\n",
              "      <th>Unnamed: 9</th>\n",
              "      <th>...</th>\n",
              "      <th>Q</th>\n",
              "      <th>Unnamed: 25</th>\n",
              "      <th>EVID</th>\n",
              "      <th>Unnamed: 27</th>\n",
              "      <th>Unnamed: 28</th>\n",
              "      <th>Unnamed: 29</th>\n",
              "      <th>Unnamed: 30</th>\n",
              "      <th>Unnamed: 31</th>\n",
              "      <th>NPH</th>\n",
              "      <th>NGRM</th>\n",
              "    </tr>\n",
              "  </thead>\n",
              "  <tbody>\n",
              "    <tr>\n",
              "      <th>0</th>\n",
              "      <td>1984/01/01</td>\n",
              "      <td>01:30:57.52</td>\n",
              "      <td>eq</td>\n",
              "      <td>NaN</td>\n",
              "      <td>l</td>\n",
              "      <td>2.02</td>\n",
              "      <td>c</td>\n",
              "      <td>NaN</td>\n",
              "      <td>NaN</td>\n",
              "      <td>33.246</td>\n",
              "      <td>...</td>\n",
              "      <td>17.0</td>\n",
              "      <td>NaN</td>\n",
              "      <td>NaN</td>\n",
              "      <td>NaN</td>\n",
              "      <td>NaN</td>\n",
              "      <td>NaN</td>\n",
              "      <td>NaN</td>\n",
              "      <td>NaN</td>\n",
              "      <td>NaN</td>\n",
              "      <td>NaN</td>\n",
              "    </tr>\n",
              "    <tr>\n",
              "      <th>1</th>\n",
              "      <td>1984/01/01</td>\n",
              "      <td>05:31:34.16</td>\n",
              "      <td>eq</td>\n",
              "      <td>NaN</td>\n",
              "      <td>l</td>\n",
              "      <td>2.12</td>\n",
              "      <td>c</td>\n",
              "      <td>NaN</td>\n",
              "      <td>NaN</td>\n",
              "      <td>32.945</td>\n",
              "      <td>...</td>\n",
              "      <td>42.0</td>\n",
              "      <td>NaN</td>\n",
              "      <td>NaN</td>\n",
              "      <td>NaN</td>\n",
              "      <td>NaN</td>\n",
              "      <td>NaN</td>\n",
              "      <td>NaN</td>\n",
              "      <td>NaN</td>\n",
              "      <td>NaN</td>\n",
              "      <td>NaN</td>\n",
              "    </tr>\n",
              "    <tr>\n",
              "      <th>2</th>\n",
              "      <td>1984/01/01</td>\n",
              "      <td>06:59:05.14</td>\n",
              "      <td>eq</td>\n",
              "      <td>NaN</td>\n",
              "      <td>l</td>\n",
              "      <td>2.43</td>\n",
              "      <td>c</td>\n",
              "      <td>NaN</td>\n",
              "      <td>NaN</td>\n",
              "      <td>33.343</td>\n",
              "      <td>...</td>\n",
              "      <td>30.0</td>\n",
              "      <td>NaN</td>\n",
              "      <td>NaN</td>\n",
              "      <td>NaN</td>\n",
              "      <td>NaN</td>\n",
              "      <td>NaN</td>\n",
              "      <td>NaN</td>\n",
              "      <td>NaN</td>\n",
              "      <td>NaN</td>\n",
              "      <td>NaN</td>\n",
              "    </tr>\n",
              "    <tr>\n",
              "      <th>3</th>\n",
              "      <td>1984/01/01</td>\n",
              "      <td>11:10:25.29</td>\n",
              "      <td>eq</td>\n",
              "      <td>NaN</td>\n",
              "      <td>l</td>\n",
              "      <td>2.07</td>\n",
              "      <td>c</td>\n",
              "      <td>NaN</td>\n",
              "      <td>NaN</td>\n",
              "      <td>33.668</td>\n",
              "      <td>...</td>\n",
              "      <td>NaN</td>\n",
              "      <td>NaN</td>\n",
              "      <td>NaN</td>\n",
              "      <td>NaN</td>\n",
              "      <td>NaN</td>\n",
              "      <td>NaN</td>\n",
              "      <td>NaN</td>\n",
              "      <td>NaN</td>\n",
              "      <td>NaN</td>\n",
              "      <td>NaN</td>\n",
              "    </tr>\n",
              "    <tr>\n",
              "      <th>4</th>\n",
              "      <td>1984/01/01</td>\n",
              "      <td>19:38:19.79</td>\n",
              "      <td>eq</td>\n",
              "      <td>NaN</td>\n",
              "      <td>l</td>\n",
              "      <td>2.13</td>\n",
              "      <td>c</td>\n",
              "      <td>NaN</td>\n",
              "      <td>NaN</td>\n",
              "      <td>33.963</td>\n",
              "      <td>...</td>\n",
              "      <td>49.0</td>\n",
              "      <td>NaN</td>\n",
              "      <td>NaN</td>\n",
              "      <td>NaN</td>\n",
              "      <td>NaN</td>\n",
              "      <td>NaN</td>\n",
              "      <td>NaN</td>\n",
              "      <td>NaN</td>\n",
              "      <td>NaN</td>\n",
              "      <td>NaN</td>\n",
              "    </tr>\n",
              "  </tbody>\n",
              "</table>\n",
              "<p>5 rows × 34 columns</p>\n",
              "</div>\n",
              "      <button class=\"colab-df-convert\" onclick=\"convertToInteractive('df-d2e96de6-ab61-418e-a06a-4c42266e458c')\"\n",
              "              title=\"Convert this dataframe to an interactive table.\"\n",
              "              style=\"display:none;\">\n",
              "        \n",
              "  <svg xmlns=\"http://www.w3.org/2000/svg\" height=\"24px\"viewBox=\"0 0 24 24\"\n",
              "       width=\"24px\">\n",
              "    <path d=\"M0 0h24v24H0V0z\" fill=\"none\"/>\n",
              "    <path d=\"M18.56 5.44l.94 2.06.94-2.06 2.06-.94-2.06-.94-.94-2.06-.94 2.06-2.06.94zm-11 1L8.5 8.5l.94-2.06 2.06-.94-2.06-.94L8.5 2.5l-.94 2.06-2.06.94zm10 10l.94 2.06.94-2.06 2.06-.94-2.06-.94-.94-2.06-.94 2.06-2.06.94z\"/><path d=\"M17.41 7.96l-1.37-1.37c-.4-.4-.92-.59-1.43-.59-.52 0-1.04.2-1.43.59L10.3 9.45l-7.72 7.72c-.78.78-.78 2.05 0 2.83L4 21.41c.39.39.9.59 1.41.59.51 0 1.02-.2 1.41-.59l7.78-7.78 2.81-2.81c.8-.78.8-2.07 0-2.86zM5.41 20L4 18.59l7.72-7.72 1.47 1.35L5.41 20z\"/>\n",
              "  </svg>\n",
              "      </button>\n",
              "      \n",
              "  <style>\n",
              "    .colab-df-container {\n",
              "      display:flex;\n",
              "      flex-wrap:wrap;\n",
              "      gap: 12px;\n",
              "    }\n",
              "\n",
              "    .colab-df-convert {\n",
              "      background-color: #E8F0FE;\n",
              "      border: none;\n",
              "      border-radius: 50%;\n",
              "      cursor: pointer;\n",
              "      display: none;\n",
              "      fill: #1967D2;\n",
              "      height: 32px;\n",
              "      padding: 0 0 0 0;\n",
              "      width: 32px;\n",
              "    }\n",
              "\n",
              "    .colab-df-convert:hover {\n",
              "      background-color: #E2EBFA;\n",
              "      box-shadow: 0px 1px 2px rgba(60, 64, 67, 0.3), 0px 1px 3px 1px rgba(60, 64, 67, 0.15);\n",
              "      fill: #174EA6;\n",
              "    }\n",
              "\n",
              "    [theme=dark] .colab-df-convert {\n",
              "      background-color: #3B4455;\n",
              "      fill: #D2E3FC;\n",
              "    }\n",
              "\n",
              "    [theme=dark] .colab-df-convert:hover {\n",
              "      background-color: #434B5C;\n",
              "      box-shadow: 0px 1px 3px 1px rgba(0, 0, 0, 0.15);\n",
              "      filter: drop-shadow(0px 1px 2px rgba(0, 0, 0, 0.3));\n",
              "      fill: #FFFFFF;\n",
              "    }\n",
              "  </style>\n",
              "\n",
              "      <script>\n",
              "        const buttonEl =\n",
              "          document.querySelector('#df-d2e96de6-ab61-418e-a06a-4c42266e458c button.colab-df-convert');\n",
              "        buttonEl.style.display =\n",
              "          google.colab.kernel.accessAllowed ? 'block' : 'none';\n",
              "\n",
              "        async function convertToInteractive(key) {\n",
              "          const element = document.querySelector('#df-d2e96de6-ab61-418e-a06a-4c42266e458c');\n",
              "          const dataTable =\n",
              "            await google.colab.kernel.invokeFunction('convertToInteractive',\n",
              "                                                     [key], {});\n",
              "          if (!dataTable) return;\n",
              "\n",
              "          const docLinkHtml = 'Like what you see? Visit the ' +\n",
              "            '<a target=\"_blank\" href=https://colab.research.google.com/notebooks/data_table.ipynb>data table notebook</a>'\n",
              "            + ' to learn more about interactive tables.';\n",
              "          element.innerHTML = '';\n",
              "          dataTable['output_type'] = 'display_data';\n",
              "          await google.colab.output.renderOutput(dataTable, element);\n",
              "          const docLink = document.createElement('div');\n",
              "          docLink.innerHTML = docLinkHtml;\n",
              "          element.appendChild(docLink);\n",
              "        }\n",
              "      </script>\n",
              "    </div>\n",
              "  </div>\n",
              "  "
            ]
          },
          "metadata": {},
          "execution_count": 4
        }
      ]
    },
    {
      "cell_type": "code",
      "source": [
        "eqs.describe()"
      ],
      "metadata": {
        "colab": {
          "base_uri": "https://localhost:8080/",
          "height": 411
        },
        "id": "H5bnKp2rjUSr",
        "outputId": "bcfeb1fe-6e72-4205-ad48-ca06d05bc962"
      },
      "execution_count": 5,
      "outputs": [
        {
          "output_type": "execute_result",
          "data": {
            "text/plain": [
              "        GT    Unnamed: 5  Unnamed: 7  Unnamed: 8    Unnamed: 9          LAT  \\\n",
              "count  0.0  70798.000000         0.0         0.0  70798.000000  70798.00000   \n",
              "mean   NaN      2.417826         NaN         NaN     33.977749   -116.88145   \n",
              "std    NaN      0.407683         NaN         NaN      1.156586      1.07667   \n",
              "min    NaN      2.000000         NaN         NaN     30.094830   -121.76000   \n",
              "25%    NaN      2.120000         NaN         NaN     33.061000   -117.69200   \n",
              "50%    NaN      2.300000         NaN         NaN     34.056750   -116.59000   \n",
              "75%    NaN      2.590000         NaN         NaN     34.591000   -116.25100   \n",
              "max    NaN      7.100000         NaN         NaN     37.985500   -113.71900   \n",
              "\n",
              "       Unnamed: 11  Unnamed: 12   Unnamed: 15   Unnamed: 16  ...            Q  \\\n",
              "count          0.0  9648.000000  7.359000e+03  4.628900e+04  ...  3387.000000   \n",
              "mean           NaN    13.354343  6.097558e+06  4.482677e+06  ...    43.415412   \n",
              "std            NaN     2.724517  4.441852e+06  3.130379e+06  ...    24.266088   \n",
              "min            NaN    10.000000  1.000432e+06  1.070000e+02  ...     0.000000   \n",
              "25%            NaN    11.200000  3.041641e+06  3.031237e+06  ...    24.000000   \n",
              "50%            NaN    12.800000  3.229114e+06  3.110080e+06  ...    38.000000   \n",
              "75%            NaN    14.900000  9.669999e+06  9.027968e+06  ...    61.000000   \n",
              "max            NaN    29.300000  3.736673e+07  9.875061e+06  ...   145.000000   \n",
              "\n",
              "       Unnamed: 25      EVID  Unnamed: 27  Unnamed: 28  Unnamed: 29  \\\n",
              "count   469.000000  2.000000          0.0          0.0          0.0   \n",
              "mean     14.746269  7.000000          NaN          NaN          NaN   \n",
              "std      17.013243  2.828427          NaN          NaN          NaN   \n",
              "min       0.000000  5.000000          NaN          NaN          NaN   \n",
              "25%       0.000000  6.000000          NaN          NaN          NaN   \n",
              "50%      13.000000  7.000000          NaN          NaN          NaN   \n",
              "75%      24.000000  8.000000          NaN          NaN          NaN   \n",
              "max      88.000000  9.000000          NaN          NaN          NaN   \n",
              "\n",
              "       Unnamed: 30  Unnamed: 31  NPH  NGRM  \n",
              "count          0.0          0.0  0.0   0.0  \n",
              "mean           NaN          NaN  NaN   NaN  \n",
              "std            NaN          NaN  NaN   NaN  \n",
              "min            NaN          NaN  NaN   NaN  \n",
              "25%            NaN          NaN  NaN   NaN  \n",
              "50%            NaN          NaN  NaN   NaN  \n",
              "75%            NaN          NaN  NaN   NaN  \n",
              "max            NaN          NaN  NaN   NaN  \n",
              "\n",
              "[8 rows x 27 columns]"
            ],
            "text/html": [
              "\n",
              "  <div id=\"df-c60d7a76-9524-47b2-86ea-157389798c7a\">\n",
              "    <div class=\"colab-df-container\">\n",
              "      <div>\n",
              "<style scoped>\n",
              "    .dataframe tbody tr th:only-of-type {\n",
              "        vertical-align: middle;\n",
              "    }\n",
              "\n",
              "    .dataframe tbody tr th {\n",
              "        vertical-align: top;\n",
              "    }\n",
              "\n",
              "    .dataframe thead th {\n",
              "        text-align: right;\n",
              "    }\n",
              "</style>\n",
              "<table border=\"1\" class=\"dataframe\">\n",
              "  <thead>\n",
              "    <tr style=\"text-align: right;\">\n",
              "      <th></th>\n",
              "      <th>GT</th>\n",
              "      <th>Unnamed: 5</th>\n",
              "      <th>Unnamed: 7</th>\n",
              "      <th>Unnamed: 8</th>\n",
              "      <th>Unnamed: 9</th>\n",
              "      <th>LAT</th>\n",
              "      <th>Unnamed: 11</th>\n",
              "      <th>Unnamed: 12</th>\n",
              "      <th>Unnamed: 15</th>\n",
              "      <th>Unnamed: 16</th>\n",
              "      <th>...</th>\n",
              "      <th>Q</th>\n",
              "      <th>Unnamed: 25</th>\n",
              "      <th>EVID</th>\n",
              "      <th>Unnamed: 27</th>\n",
              "      <th>Unnamed: 28</th>\n",
              "      <th>Unnamed: 29</th>\n",
              "      <th>Unnamed: 30</th>\n",
              "      <th>Unnamed: 31</th>\n",
              "      <th>NPH</th>\n",
              "      <th>NGRM</th>\n",
              "    </tr>\n",
              "  </thead>\n",
              "  <tbody>\n",
              "    <tr>\n",
              "      <th>count</th>\n",
              "      <td>0.0</td>\n",
              "      <td>70798.000000</td>\n",
              "      <td>0.0</td>\n",
              "      <td>0.0</td>\n",
              "      <td>70798.000000</td>\n",
              "      <td>70798.00000</td>\n",
              "      <td>0.0</td>\n",
              "      <td>9648.000000</td>\n",
              "      <td>7.359000e+03</td>\n",
              "      <td>4.628900e+04</td>\n",
              "      <td>...</td>\n",
              "      <td>3387.000000</td>\n",
              "      <td>469.000000</td>\n",
              "      <td>2.000000</td>\n",
              "      <td>0.0</td>\n",
              "      <td>0.0</td>\n",
              "      <td>0.0</td>\n",
              "      <td>0.0</td>\n",
              "      <td>0.0</td>\n",
              "      <td>0.0</td>\n",
              "      <td>0.0</td>\n",
              "    </tr>\n",
              "    <tr>\n",
              "      <th>mean</th>\n",
              "      <td>NaN</td>\n",
              "      <td>2.417826</td>\n",
              "      <td>NaN</td>\n",
              "      <td>NaN</td>\n",
              "      <td>33.977749</td>\n",
              "      <td>-116.88145</td>\n",
              "      <td>NaN</td>\n",
              "      <td>13.354343</td>\n",
              "      <td>6.097558e+06</td>\n",
              "      <td>4.482677e+06</td>\n",
              "      <td>...</td>\n",
              "      <td>43.415412</td>\n",
              "      <td>14.746269</td>\n",
              "      <td>7.000000</td>\n",
              "      <td>NaN</td>\n",
              "      <td>NaN</td>\n",
              "      <td>NaN</td>\n",
              "      <td>NaN</td>\n",
              "      <td>NaN</td>\n",
              "      <td>NaN</td>\n",
              "      <td>NaN</td>\n",
              "    </tr>\n",
              "    <tr>\n",
              "      <th>std</th>\n",
              "      <td>NaN</td>\n",
              "      <td>0.407683</td>\n",
              "      <td>NaN</td>\n",
              "      <td>NaN</td>\n",
              "      <td>1.156586</td>\n",
              "      <td>1.07667</td>\n",
              "      <td>NaN</td>\n",
              "      <td>2.724517</td>\n",
              "      <td>4.441852e+06</td>\n",
              "      <td>3.130379e+06</td>\n",
              "      <td>...</td>\n",
              "      <td>24.266088</td>\n",
              "      <td>17.013243</td>\n",
              "      <td>2.828427</td>\n",
              "      <td>NaN</td>\n",
              "      <td>NaN</td>\n",
              "      <td>NaN</td>\n",
              "      <td>NaN</td>\n",
              "      <td>NaN</td>\n",
              "      <td>NaN</td>\n",
              "      <td>NaN</td>\n",
              "    </tr>\n",
              "    <tr>\n",
              "      <th>min</th>\n",
              "      <td>NaN</td>\n",
              "      <td>2.000000</td>\n",
              "      <td>NaN</td>\n",
              "      <td>NaN</td>\n",
              "      <td>30.094830</td>\n",
              "      <td>-121.76000</td>\n",
              "      <td>NaN</td>\n",
              "      <td>10.000000</td>\n",
              "      <td>1.000432e+06</td>\n",
              "      <td>1.070000e+02</td>\n",
              "      <td>...</td>\n",
              "      <td>0.000000</td>\n",
              "      <td>0.000000</td>\n",
              "      <td>5.000000</td>\n",
              "      <td>NaN</td>\n",
              "      <td>NaN</td>\n",
              "      <td>NaN</td>\n",
              "      <td>NaN</td>\n",
              "      <td>NaN</td>\n",
              "      <td>NaN</td>\n",
              "      <td>NaN</td>\n",
              "    </tr>\n",
              "    <tr>\n",
              "      <th>25%</th>\n",
              "      <td>NaN</td>\n",
              "      <td>2.120000</td>\n",
              "      <td>NaN</td>\n",
              "      <td>NaN</td>\n",
              "      <td>33.061000</td>\n",
              "      <td>-117.69200</td>\n",
              "      <td>NaN</td>\n",
              "      <td>11.200000</td>\n",
              "      <td>3.041641e+06</td>\n",
              "      <td>3.031237e+06</td>\n",
              "      <td>...</td>\n",
              "      <td>24.000000</td>\n",
              "      <td>0.000000</td>\n",
              "      <td>6.000000</td>\n",
              "      <td>NaN</td>\n",
              "      <td>NaN</td>\n",
              "      <td>NaN</td>\n",
              "      <td>NaN</td>\n",
              "      <td>NaN</td>\n",
              "      <td>NaN</td>\n",
              "      <td>NaN</td>\n",
              "    </tr>\n",
              "    <tr>\n",
              "      <th>50%</th>\n",
              "      <td>NaN</td>\n",
              "      <td>2.300000</td>\n",
              "      <td>NaN</td>\n",
              "      <td>NaN</td>\n",
              "      <td>34.056750</td>\n",
              "      <td>-116.59000</td>\n",
              "      <td>NaN</td>\n",
              "      <td>12.800000</td>\n",
              "      <td>3.229114e+06</td>\n",
              "      <td>3.110080e+06</td>\n",
              "      <td>...</td>\n",
              "      <td>38.000000</td>\n",
              "      <td>13.000000</td>\n",
              "      <td>7.000000</td>\n",
              "      <td>NaN</td>\n",
              "      <td>NaN</td>\n",
              "      <td>NaN</td>\n",
              "      <td>NaN</td>\n",
              "      <td>NaN</td>\n",
              "      <td>NaN</td>\n",
              "      <td>NaN</td>\n",
              "    </tr>\n",
              "    <tr>\n",
              "      <th>75%</th>\n",
              "      <td>NaN</td>\n",
              "      <td>2.590000</td>\n",
              "      <td>NaN</td>\n",
              "      <td>NaN</td>\n",
              "      <td>34.591000</td>\n",
              "      <td>-116.25100</td>\n",
              "      <td>NaN</td>\n",
              "      <td>14.900000</td>\n",
              "      <td>9.669999e+06</td>\n",
              "      <td>9.027968e+06</td>\n",
              "      <td>...</td>\n",
              "      <td>61.000000</td>\n",
              "      <td>24.000000</td>\n",
              "      <td>8.000000</td>\n",
              "      <td>NaN</td>\n",
              "      <td>NaN</td>\n",
              "      <td>NaN</td>\n",
              "      <td>NaN</td>\n",
              "      <td>NaN</td>\n",
              "      <td>NaN</td>\n",
              "      <td>NaN</td>\n",
              "    </tr>\n",
              "    <tr>\n",
              "      <th>max</th>\n",
              "      <td>NaN</td>\n",
              "      <td>7.100000</td>\n",
              "      <td>NaN</td>\n",
              "      <td>NaN</td>\n",
              "      <td>37.985500</td>\n",
              "      <td>-113.71900</td>\n",
              "      <td>NaN</td>\n",
              "      <td>29.300000</td>\n",
              "      <td>3.736673e+07</td>\n",
              "      <td>9.875061e+06</td>\n",
              "      <td>...</td>\n",
              "      <td>145.000000</td>\n",
              "      <td>88.000000</td>\n",
              "      <td>9.000000</td>\n",
              "      <td>NaN</td>\n",
              "      <td>NaN</td>\n",
              "      <td>NaN</td>\n",
              "      <td>NaN</td>\n",
              "      <td>NaN</td>\n",
              "      <td>NaN</td>\n",
              "      <td>NaN</td>\n",
              "    </tr>\n",
              "  </tbody>\n",
              "</table>\n",
              "<p>8 rows × 27 columns</p>\n",
              "</div>\n",
              "      <button class=\"colab-df-convert\" onclick=\"convertToInteractive('df-c60d7a76-9524-47b2-86ea-157389798c7a')\"\n",
              "              title=\"Convert this dataframe to an interactive table.\"\n",
              "              style=\"display:none;\">\n",
              "        \n",
              "  <svg xmlns=\"http://www.w3.org/2000/svg\" height=\"24px\"viewBox=\"0 0 24 24\"\n",
              "       width=\"24px\">\n",
              "    <path d=\"M0 0h24v24H0V0z\" fill=\"none\"/>\n",
              "    <path d=\"M18.56 5.44l.94 2.06.94-2.06 2.06-.94-2.06-.94-.94-2.06-.94 2.06-2.06.94zm-11 1L8.5 8.5l.94-2.06 2.06-.94-2.06-.94L8.5 2.5l-.94 2.06-2.06.94zm10 10l.94 2.06.94-2.06 2.06-.94-2.06-.94-.94-2.06-.94 2.06-2.06.94z\"/><path d=\"M17.41 7.96l-1.37-1.37c-.4-.4-.92-.59-1.43-.59-.52 0-1.04.2-1.43.59L10.3 9.45l-7.72 7.72c-.78.78-.78 2.05 0 2.83L4 21.41c.39.39.9.59 1.41.59.51 0 1.02-.2 1.41-.59l7.78-7.78 2.81-2.81c.8-.78.8-2.07 0-2.86zM5.41 20L4 18.59l7.72-7.72 1.47 1.35L5.41 20z\"/>\n",
              "  </svg>\n",
              "      </button>\n",
              "      \n",
              "  <style>\n",
              "    .colab-df-container {\n",
              "      display:flex;\n",
              "      flex-wrap:wrap;\n",
              "      gap: 12px;\n",
              "    }\n",
              "\n",
              "    .colab-df-convert {\n",
              "      background-color: #E8F0FE;\n",
              "      border: none;\n",
              "      border-radius: 50%;\n",
              "      cursor: pointer;\n",
              "      display: none;\n",
              "      fill: #1967D2;\n",
              "      height: 32px;\n",
              "      padding: 0 0 0 0;\n",
              "      width: 32px;\n",
              "    }\n",
              "\n",
              "    .colab-df-convert:hover {\n",
              "      background-color: #E2EBFA;\n",
              "      box-shadow: 0px 1px 2px rgba(60, 64, 67, 0.3), 0px 1px 3px 1px rgba(60, 64, 67, 0.15);\n",
              "      fill: #174EA6;\n",
              "    }\n",
              "\n",
              "    [theme=dark] .colab-df-convert {\n",
              "      background-color: #3B4455;\n",
              "      fill: #D2E3FC;\n",
              "    }\n",
              "\n",
              "    [theme=dark] .colab-df-convert:hover {\n",
              "      background-color: #434B5C;\n",
              "      box-shadow: 0px 1px 3px 1px rgba(0, 0, 0, 0.15);\n",
              "      filter: drop-shadow(0px 1px 2px rgba(0, 0, 0, 0.3));\n",
              "      fill: #FFFFFF;\n",
              "    }\n",
              "  </style>\n",
              "\n",
              "      <script>\n",
              "        const buttonEl =\n",
              "          document.querySelector('#df-c60d7a76-9524-47b2-86ea-157389798c7a button.colab-df-convert');\n",
              "        buttonEl.style.display =\n",
              "          google.colab.kernel.accessAllowed ? 'block' : 'none';\n",
              "\n",
              "        async function convertToInteractive(key) {\n",
              "          const element = document.querySelector('#df-c60d7a76-9524-47b2-86ea-157389798c7a');\n",
              "          const dataTable =\n",
              "            await google.colab.kernel.invokeFunction('convertToInteractive',\n",
              "                                                     [key], {});\n",
              "          if (!dataTable) return;\n",
              "\n",
              "          const docLinkHtml = 'Like what you see? Visit the ' +\n",
              "            '<a target=\"_blank\" href=https://colab.research.google.com/notebooks/data_table.ipynb>data table notebook</a>'\n",
              "            + ' to learn more about interactive tables.';\n",
              "          element.innerHTML = '';\n",
              "          dataTable['output_type'] = 'display_data';\n",
              "          await google.colab.output.renderOutput(dataTable, element);\n",
              "          const docLink = document.createElement('div');\n",
              "          docLink.innerHTML = docLinkHtml;\n",
              "          element.appendChild(docLink);\n",
              "        }\n",
              "      </script>\n",
              "    </div>\n",
              "  </div>\n",
              "  "
            ]
          },
          "metadata": {},
          "execution_count": 5
        }
      ]
    },
    {
      "cell_type": "code",
      "source": [
        "eqs.columns"
      ],
      "metadata": {
        "colab": {
          "base_uri": "https://localhost:8080/"
        },
        "id": "ayNJEHivj4av",
        "outputId": "2083fe29-3e8b-499a-9cbb-ecf5143f91fd"
      },
      "execution_count": 6,
      "outputs": [
        {
          "output_type": "execute_result",
          "data": {
            "text/plain": [
              "Index(['#YYY/MM/DD', 'HH:mm:SS.ss', 'ET', 'GT', 'MAG', 'Unnamed: 5', 'M',\n",
              "       'Unnamed: 7', 'Unnamed: 8', 'Unnamed: 9', 'LAT', 'Unnamed: 11',\n",
              "       'Unnamed: 12', 'Unnamed: 13', 'Unnamed: 14', 'Unnamed: 15',\n",
              "       'Unnamed: 16', 'LON', 'Unnamed: 18', 'Unnamed: 19', 'Unnamed: 20',\n",
              "       'Unnamed: 21', 'Unnamed: 22', 'DEPTH', 'Q', 'Unnamed: 25', 'EVID',\n",
              "       'Unnamed: 27', 'Unnamed: 28', 'Unnamed: 29', 'Unnamed: 30',\n",
              "       'Unnamed: 31', 'NPH', 'NGRM'],\n",
              "      dtype='object')"
            ]
          },
          "metadata": {},
          "execution_count": 6
        }
      ]
    },
    {
      "cell_type": "code",
      "source": [
        "#se uso solo rename crea un altro DF, metto inplace true così applica le modifiche a quello esistente\n",
        "eqs.rename({\"#YYY/MM/DD\": \"date\", \n",
        "            \"HH:mm:SS.ss\": \"time\"}, axis=1, inplace=True)"
      ],
      "metadata": {
        "id": "rWPCWRm0jvk1"
      },
      "execution_count": 7,
      "outputs": []
    },
    {
      "cell_type": "code",
      "source": [
        "eqs.head()"
      ],
      "metadata": {
        "colab": {
          "base_uri": "https://localhost:8080/",
          "height": 317
        },
        "id": "7tbgxN5_kPUQ",
        "outputId": "04b235b2-7cad-441e-ab47-1635fd0eee63"
      },
      "execution_count": 8,
      "outputs": [
        {
          "output_type": "execute_result",
          "data": {
            "text/plain": [
              "         date         time  ET  GT MAG  Unnamed: 5  M  Unnamed: 7  Unnamed: 8  \\\n",
              "0  1984/01/01  01:30:57.52  eq NaN   l        2.02  c         NaN         NaN   \n",
              "1  1984/01/01  05:31:34.16  eq NaN   l        2.12  c         NaN         NaN   \n",
              "2  1984/01/01  06:59:05.14  eq NaN   l        2.43  c         NaN         NaN   \n",
              "3  1984/01/01  11:10:25.29  eq NaN   l        2.07  c         NaN         NaN   \n",
              "4  1984/01/01  19:38:19.79  eq NaN   l        2.13  c         NaN         NaN   \n",
              "\n",
              "   Unnamed: 9  ...     Q  Unnamed: 25  EVID Unnamed: 27 Unnamed: 28  \\\n",
              "0      33.246  ...  17.0          NaN   NaN         NaN         NaN   \n",
              "1      32.945  ...  42.0          NaN   NaN         NaN         NaN   \n",
              "2      33.343  ...  30.0          NaN   NaN         NaN         NaN   \n",
              "3      33.668  ...   NaN          NaN   NaN         NaN         NaN   \n",
              "4      33.963  ...  49.0          NaN   NaN         NaN         NaN   \n",
              "\n",
              "   Unnamed: 29  Unnamed: 30  Unnamed: 31  NPH  NGRM  \n",
              "0          NaN          NaN          NaN  NaN   NaN  \n",
              "1          NaN          NaN          NaN  NaN   NaN  \n",
              "2          NaN          NaN          NaN  NaN   NaN  \n",
              "3          NaN          NaN          NaN  NaN   NaN  \n",
              "4          NaN          NaN          NaN  NaN   NaN  \n",
              "\n",
              "[5 rows x 34 columns]"
            ],
            "text/html": [
              "\n",
              "  <div id=\"df-36896957-7e0a-4f91-9620-314fd283d6f9\">\n",
              "    <div class=\"colab-df-container\">\n",
              "      <div>\n",
              "<style scoped>\n",
              "    .dataframe tbody tr th:only-of-type {\n",
              "        vertical-align: middle;\n",
              "    }\n",
              "\n",
              "    .dataframe tbody tr th {\n",
              "        vertical-align: top;\n",
              "    }\n",
              "\n",
              "    .dataframe thead th {\n",
              "        text-align: right;\n",
              "    }\n",
              "</style>\n",
              "<table border=\"1\" class=\"dataframe\">\n",
              "  <thead>\n",
              "    <tr style=\"text-align: right;\">\n",
              "      <th></th>\n",
              "      <th>date</th>\n",
              "      <th>time</th>\n",
              "      <th>ET</th>\n",
              "      <th>GT</th>\n",
              "      <th>MAG</th>\n",
              "      <th>Unnamed: 5</th>\n",
              "      <th>M</th>\n",
              "      <th>Unnamed: 7</th>\n",
              "      <th>Unnamed: 8</th>\n",
              "      <th>Unnamed: 9</th>\n",
              "      <th>...</th>\n",
              "      <th>Q</th>\n",
              "      <th>Unnamed: 25</th>\n",
              "      <th>EVID</th>\n",
              "      <th>Unnamed: 27</th>\n",
              "      <th>Unnamed: 28</th>\n",
              "      <th>Unnamed: 29</th>\n",
              "      <th>Unnamed: 30</th>\n",
              "      <th>Unnamed: 31</th>\n",
              "      <th>NPH</th>\n",
              "      <th>NGRM</th>\n",
              "    </tr>\n",
              "  </thead>\n",
              "  <tbody>\n",
              "    <tr>\n",
              "      <th>0</th>\n",
              "      <td>1984/01/01</td>\n",
              "      <td>01:30:57.52</td>\n",
              "      <td>eq</td>\n",
              "      <td>NaN</td>\n",
              "      <td>l</td>\n",
              "      <td>2.02</td>\n",
              "      <td>c</td>\n",
              "      <td>NaN</td>\n",
              "      <td>NaN</td>\n",
              "      <td>33.246</td>\n",
              "      <td>...</td>\n",
              "      <td>17.0</td>\n",
              "      <td>NaN</td>\n",
              "      <td>NaN</td>\n",
              "      <td>NaN</td>\n",
              "      <td>NaN</td>\n",
              "      <td>NaN</td>\n",
              "      <td>NaN</td>\n",
              "      <td>NaN</td>\n",
              "      <td>NaN</td>\n",
              "      <td>NaN</td>\n",
              "    </tr>\n",
              "    <tr>\n",
              "      <th>1</th>\n",
              "      <td>1984/01/01</td>\n",
              "      <td>05:31:34.16</td>\n",
              "      <td>eq</td>\n",
              "      <td>NaN</td>\n",
              "      <td>l</td>\n",
              "      <td>2.12</td>\n",
              "      <td>c</td>\n",
              "      <td>NaN</td>\n",
              "      <td>NaN</td>\n",
              "      <td>32.945</td>\n",
              "      <td>...</td>\n",
              "      <td>42.0</td>\n",
              "      <td>NaN</td>\n",
              "      <td>NaN</td>\n",
              "      <td>NaN</td>\n",
              "      <td>NaN</td>\n",
              "      <td>NaN</td>\n",
              "      <td>NaN</td>\n",
              "      <td>NaN</td>\n",
              "      <td>NaN</td>\n",
              "      <td>NaN</td>\n",
              "    </tr>\n",
              "    <tr>\n",
              "      <th>2</th>\n",
              "      <td>1984/01/01</td>\n",
              "      <td>06:59:05.14</td>\n",
              "      <td>eq</td>\n",
              "      <td>NaN</td>\n",
              "      <td>l</td>\n",
              "      <td>2.43</td>\n",
              "      <td>c</td>\n",
              "      <td>NaN</td>\n",
              "      <td>NaN</td>\n",
              "      <td>33.343</td>\n",
              "      <td>...</td>\n",
              "      <td>30.0</td>\n",
              "      <td>NaN</td>\n",
              "      <td>NaN</td>\n",
              "      <td>NaN</td>\n",
              "      <td>NaN</td>\n",
              "      <td>NaN</td>\n",
              "      <td>NaN</td>\n",
              "      <td>NaN</td>\n",
              "      <td>NaN</td>\n",
              "      <td>NaN</td>\n",
              "    </tr>\n",
              "    <tr>\n",
              "      <th>3</th>\n",
              "      <td>1984/01/01</td>\n",
              "      <td>11:10:25.29</td>\n",
              "      <td>eq</td>\n",
              "      <td>NaN</td>\n",
              "      <td>l</td>\n",
              "      <td>2.07</td>\n",
              "      <td>c</td>\n",
              "      <td>NaN</td>\n",
              "      <td>NaN</td>\n",
              "      <td>33.668</td>\n",
              "      <td>...</td>\n",
              "      <td>NaN</td>\n",
              "      <td>NaN</td>\n",
              "      <td>NaN</td>\n",
              "      <td>NaN</td>\n",
              "      <td>NaN</td>\n",
              "      <td>NaN</td>\n",
              "      <td>NaN</td>\n",
              "      <td>NaN</td>\n",
              "      <td>NaN</td>\n",
              "      <td>NaN</td>\n",
              "    </tr>\n",
              "    <tr>\n",
              "      <th>4</th>\n",
              "      <td>1984/01/01</td>\n",
              "      <td>19:38:19.79</td>\n",
              "      <td>eq</td>\n",
              "      <td>NaN</td>\n",
              "      <td>l</td>\n",
              "      <td>2.13</td>\n",
              "      <td>c</td>\n",
              "      <td>NaN</td>\n",
              "      <td>NaN</td>\n",
              "      <td>33.963</td>\n",
              "      <td>...</td>\n",
              "      <td>49.0</td>\n",
              "      <td>NaN</td>\n",
              "      <td>NaN</td>\n",
              "      <td>NaN</td>\n",
              "      <td>NaN</td>\n",
              "      <td>NaN</td>\n",
              "      <td>NaN</td>\n",
              "      <td>NaN</td>\n",
              "      <td>NaN</td>\n",
              "      <td>NaN</td>\n",
              "    </tr>\n",
              "  </tbody>\n",
              "</table>\n",
              "<p>5 rows × 34 columns</p>\n",
              "</div>\n",
              "      <button class=\"colab-df-convert\" onclick=\"convertToInteractive('df-36896957-7e0a-4f91-9620-314fd283d6f9')\"\n",
              "              title=\"Convert this dataframe to an interactive table.\"\n",
              "              style=\"display:none;\">\n",
              "        \n",
              "  <svg xmlns=\"http://www.w3.org/2000/svg\" height=\"24px\"viewBox=\"0 0 24 24\"\n",
              "       width=\"24px\">\n",
              "    <path d=\"M0 0h24v24H0V0z\" fill=\"none\"/>\n",
              "    <path d=\"M18.56 5.44l.94 2.06.94-2.06 2.06-.94-2.06-.94-.94-2.06-.94 2.06-2.06.94zm-11 1L8.5 8.5l.94-2.06 2.06-.94-2.06-.94L8.5 2.5l-.94 2.06-2.06.94zm10 10l.94 2.06.94-2.06 2.06-.94-2.06-.94-.94-2.06-.94 2.06-2.06.94z\"/><path d=\"M17.41 7.96l-1.37-1.37c-.4-.4-.92-.59-1.43-.59-.52 0-1.04.2-1.43.59L10.3 9.45l-7.72 7.72c-.78.78-.78 2.05 0 2.83L4 21.41c.39.39.9.59 1.41.59.51 0 1.02-.2 1.41-.59l7.78-7.78 2.81-2.81c.8-.78.8-2.07 0-2.86zM5.41 20L4 18.59l7.72-7.72 1.47 1.35L5.41 20z\"/>\n",
              "  </svg>\n",
              "      </button>\n",
              "      \n",
              "  <style>\n",
              "    .colab-df-container {\n",
              "      display:flex;\n",
              "      flex-wrap:wrap;\n",
              "      gap: 12px;\n",
              "    }\n",
              "\n",
              "    .colab-df-convert {\n",
              "      background-color: #E8F0FE;\n",
              "      border: none;\n",
              "      border-radius: 50%;\n",
              "      cursor: pointer;\n",
              "      display: none;\n",
              "      fill: #1967D2;\n",
              "      height: 32px;\n",
              "      padding: 0 0 0 0;\n",
              "      width: 32px;\n",
              "    }\n",
              "\n",
              "    .colab-df-convert:hover {\n",
              "      background-color: #E2EBFA;\n",
              "      box-shadow: 0px 1px 2px rgba(60, 64, 67, 0.3), 0px 1px 3px 1px rgba(60, 64, 67, 0.15);\n",
              "      fill: #174EA6;\n",
              "    }\n",
              "\n",
              "    [theme=dark] .colab-df-convert {\n",
              "      background-color: #3B4455;\n",
              "      fill: #D2E3FC;\n",
              "    }\n",
              "\n",
              "    [theme=dark] .colab-df-convert:hover {\n",
              "      background-color: #434B5C;\n",
              "      box-shadow: 0px 1px 3px 1px rgba(0, 0, 0, 0.15);\n",
              "      filter: drop-shadow(0px 1px 2px rgba(0, 0, 0, 0.3));\n",
              "      fill: #FFFFFF;\n",
              "    }\n",
              "  </style>\n",
              "\n",
              "      <script>\n",
              "        const buttonEl =\n",
              "          document.querySelector('#df-36896957-7e0a-4f91-9620-314fd283d6f9 button.colab-df-convert');\n",
              "        buttonEl.style.display =\n",
              "          google.colab.kernel.accessAllowed ? 'block' : 'none';\n",
              "\n",
              "        async function convertToInteractive(key) {\n",
              "          const element = document.querySelector('#df-36896957-7e0a-4f91-9620-314fd283d6f9');\n",
              "          const dataTable =\n",
              "            await google.colab.kernel.invokeFunction('convertToInteractive',\n",
              "                                                     [key], {});\n",
              "          if (!dataTable) return;\n",
              "\n",
              "          const docLinkHtml = 'Like what you see? Visit the ' +\n",
              "            '<a target=\"_blank\" href=https://colab.research.google.com/notebooks/data_table.ipynb>data table notebook</a>'\n",
              "            + ' to learn more about interactive tables.';\n",
              "          element.innerHTML = '';\n",
              "          dataTable['output_type'] = 'display_data';\n",
              "          await google.colab.output.renderOutput(dataTable, element);\n",
              "          const docLink = document.createElement('div');\n",
              "          docLink.innerHTML = docLinkHtml;\n",
              "          element.appendChild(docLink);\n",
              "        }\n",
              "      </script>\n",
              "    </div>\n",
              "  </div>\n",
              "  "
            ]
          },
          "metadata": {},
          "execution_count": 8
        }
      ]
    },
    {
      "cell_type": "code",
      "source": [
        "eqs.time.dtype, eqs.date.dtype\n"
      ],
      "metadata": {
        "colab": {
          "base_uri": "https://localhost:8080/"
        },
        "id": "wKFc40dfjYiq",
        "outputId": "05e29dc0-ee3a-4467-b8a9-8faf2b0810d6"
      },
      "execution_count": 9,
      "outputs": [
        {
          "output_type": "execute_result",
          "data": {
            "text/plain": [
              "(dtype('O'), dtype('O'))"
            ]
          },
          "metadata": {},
          "execution_count": 9
        }
      ]
    },
    {
      "cell_type": "code",
      "source": [
        "\n",
        "pd.to_datetime(\"1984/01/01\" + \" \" + \"19:38:19.79\")"
      ],
      "metadata": {
        "colab": {
          "base_uri": "https://localhost:8080/"
        },
        "id": "kbsvulyUjsfM",
        "outputId": "0e9a1329-ee05-4d0c-ecbe-940cd69ed526"
      },
      "execution_count": 10,
      "outputs": [
        {
          "output_type": "execute_result",
          "data": {
            "text/plain": [
              "Timestamp('1984-01-01 19:38:19.790000')"
            ]
          },
          "metadata": {},
          "execution_count": 10
        }
      ]
    },
    {
      "cell_type": "code",
      "source": [
        "#creo una colonna date con tutte le date e ora convertite nel formato datetime. col quale posso lavorare\n",
        "eqs.date.map(pd.to_datetime)"
      ],
      "metadata": {
        "colab": {
          "base_uri": "https://localhost:8080/"
        },
        "id": "uzWcOLPHkbml",
        "outputId": "54090b7f-1130-4706-bab6-804a24cc3bb4"
      },
      "execution_count": 11,
      "outputs": [
        {
          "output_type": "execute_result",
          "data": {
            "text/plain": [
              "0       1984-01-01\n",
              "1       1984-01-01\n",
              "2       1984-01-01\n",
              "3       1984-01-01\n",
              "4       1984-01-01\n",
              "           ...    \n",
              "70793   2002-12-29\n",
              "70794   2002-12-29\n",
              "70795   2002-12-29\n",
              "70796   2002-12-30\n",
              "70797   2002-12-30\n",
              "Name: date, Length: 70798, dtype: datetime64[ns]"
            ]
          },
          "metadata": {},
          "execution_count": 11
        }
      ]
    },
    {
      "cell_type": "code",
      "source": [
        "#per come sono stati salvati i dati esistono i secondi \"60.00\", che a pandas non piacciono, quindi sostituisco con 59,99\n",
        "for i in range(len(eqs)):\n",
        "  if eqs.iloc[i][\"time\"].endswith(\"60.00\"):\n",
        "    print(eqs.iloc[i][\"time\"])\n",
        "    print(eqs.iloc[i][\"time\"].replace(\"60.00\", \"59.99\"))\n",
        "    eqs.at[i, \"time\"] = eqs.iloc[i][\"time\"].replace(\"60.00\", \"59.99\")\n",
        "    print(eqs.iloc[i][\"time\"])\n"
      ],
      "metadata": {
        "colab": {
          "base_uri": "https://localhost:8080/"
        },
        "id": "V1dggybClEIx",
        "outputId": "b8b64b0e-0a74-4053-dfc5-21a911427147"
      },
      "execution_count": 12,
      "outputs": [
        {
          "output_type": "stream",
          "name": "stdout",
          "text": [
            "04:48:60.00\n",
            "04:48:59.99\n",
            "04:48:59.99\n",
            "14:19:60.00\n",
            "14:19:59.99\n",
            "14:19:59.99\n",
            "21:48:60.00\n",
            "21:48:59.99\n",
            "21:48:59.99\n",
            "15:34:60.00\n",
            "15:34:59.99\n",
            "15:34:59.99\n",
            "06:41:60.00\n",
            "06:41:59.99\n",
            "06:41:59.99\n"
          ]
        }
      ]
    },
    {
      "cell_type": "code",
      "source": [
        "#mostro come sono le prime 10 date \n",
        "for i in range(10):\n",
        "  print(eqs.iloc[i].date  + \" \" + eqs.iloc[i].time)\n"
      ],
      "metadata": {
        "id": "ZErmO_d95a6k",
        "outputId": "e2fa743b-49e7-4dab-e46f-40b454e4a50a",
        "colab": {
          "base_uri": "https://localhost:8080/"
        }
      },
      "execution_count": 13,
      "outputs": [
        {
          "output_type": "stream",
          "name": "stdout",
          "text": [
            "1984/01/01 01:30:57.52\n",
            "1984/01/01 05:31:34.16\n",
            "1984/01/01 06:59:05.14\n",
            "1984/01/01 11:10:25.29\n",
            "1984/01/01 19:38:19.79\n",
            "1984/01/01 19:39:19.67\n",
            "1984/01/01 20:19:47.21\n",
            "1984/01/02 03:51:52.76\n",
            "1984/01/02 05:00:12.44\n",
            "1984/01/02 05:02:17.29\n"
          ]
        }
      ]
    },
    {
      "cell_type": "code",
      "source": [
        "#stessa cosa ma con il for al contrario, scritto così è direttamente un array\n",
        "[eqs.iloc[i].date + \" \" + eqs.iloc[i].time for i in range(10)]\n"
      ],
      "metadata": {
        "id": "WHTUyhZe5u2K",
        "outputId": "3f9832c6-d8b3-45e4-c6ec-da1958996b69",
        "colab": {
          "base_uri": "https://localhost:8080/"
        }
      },
      "execution_count": 14,
      "outputs": [
        {
          "output_type": "execute_result",
          "data": {
            "text/plain": [
              "['1984/01/01 01:30:57.52',\n",
              " '1984/01/01 05:31:34.16',\n",
              " '1984/01/01 06:59:05.14',\n",
              " '1984/01/01 11:10:25.29',\n",
              " '1984/01/01 19:38:19.79',\n",
              " '1984/01/01 19:39:19.67',\n",
              " '1984/01/01 20:19:47.21',\n",
              " '1984/01/02 03:51:52.76',\n",
              " '1984/01/02 05:00:12.44',\n",
              " '1984/01/02 05:02:17.29']"
            ]
          },
          "metadata": {},
          "execution_count": 14
        }
      ]
    },
    {
      "cell_type": "code",
      "source": [
        "#metto insieme data e ora, con il for al contrario così uso un solo comando \n",
        "eqs['datetime'] = [eqs.iloc[i].date + \" \" + eqs.iloc[i].time for i in range(len(eqs))]\n",
        "eqs[\"datetime\"] = eqs[\"datetime\"].map(pd.to_datetime)\n",
        "\n"
      ],
      "metadata": {
        "id": "ueCf1dx8lewu"
      },
      "execution_count": 15,
      "outputs": []
    },
    {
      "cell_type": "code",
      "source": [
        "#Creo i 10 sottointervalli\n",
        "\n",
        "\n",
        "\n",
        "#delete\n",
        "# first I create the timetamps pairs for the beginning and end of the valid periods. \n",
        "# I do it with a for loop that appends pairs of timestamps to a list that I create at the beginning\n",
        "\n",
        "# create empty container\n",
        "ss = []\n",
        "\n",
        "# loop through all year pairs as year and fraction of year\n",
        "for t in [(1984, 1986.5), \n",
        "          (1990.3, 1992.1), \n",
        "          (1994.6, 1995.6),\n",
        "          (1996.1,1996.5), \n",
        "          (1997,1997.6), \n",
        "          (1997.75,1998.15), \n",
        "          (1998.25,1999.35), \n",
        "          (2000.55,2000.8),\n",
        "          (2000.9 ,2001.25), \n",
        "          (2001.6 ,2002), \n",
        "          (2002.5 ,2003)]:\n",
        "    \n",
        "    # for each pair I convert the year to datetime (easy)\n",
        "    # then I convert the fraction of year and convert it to days and convert that to a delta-time\n",
        "    # finally I add that deltatime to the year datetime. \n",
        "    ss.append((pd.to_datetime(int(t[0]), format=\"%Y\") \n",
        "        + pd.Timedelta('%.f days'%((t[0] - int(t[0])) * 365.25)),\n",
        "               pd.to_datetime(int(t[1]), format=\"%Y\") \n",
        "        + pd.Timedelta('%.f days'%((t[1] - int(t[1])) * 365.25))))"
      ],
      "metadata": {
        "id": "mrOqXMjTpURy"
      },
      "execution_count": 16,
      "outputs": []
    },
    {
      "cell_type": "code",
      "source": [
        "ss"
      ],
      "metadata": {
        "id": "TISsPZru6yBS",
        "outputId": "5fd5f972-1ab2-47e1-c662-4b16a8ad8e1a",
        "colab": {
          "base_uri": "https://localhost:8080/"
        }
      },
      "execution_count": 17,
      "outputs": [
        {
          "output_type": "execute_result",
          "data": {
            "text/plain": [
              "[(Timestamp('1984-01-01 00:00:00'), Timestamp('1986-07-03 00:00:00')),\n",
              " (Timestamp('1990-04-21 00:00:00'), Timestamp('1992-02-07 00:00:00')),\n",
              " (Timestamp('1994-08-08 00:00:00'), Timestamp('1995-08-08 00:00:00')),\n",
              " (Timestamp('1996-02-07 00:00:00'), Timestamp('1996-07-02 00:00:00')),\n",
              " (Timestamp('1997-01-01 00:00:00'), Timestamp('1997-08-08 00:00:00')),\n",
              " (Timestamp('1997-10-02 00:00:00'), Timestamp('1998-02-25 00:00:00')),\n",
              " (Timestamp('1998-04-02 00:00:00'), Timestamp('1999-05-09 00:00:00')),\n",
              " (Timestamp('2000-07-20 00:00:00'), Timestamp('2000-10-19 00:00:00')),\n",
              " (Timestamp('2000-11-25 00:00:00'), Timestamp('2001-04-02 00:00:00')),\n",
              " (Timestamp('2001-08-08 00:00:00'), Timestamp('2002-01-01 00:00:00')),\n",
              " (Timestamp('2002-07-03 00:00:00'), Timestamp('2003-01-01 00:00:00'))]"
            ]
          },
          "metadata": {},
          "execution_count": 17
        }
      ]
    },
    {
      "cell_type": "code",
      "source": [
        "#tengo all'interno di gooddates soltanto le date che ricadono in uno dei 10 sottointervalli è un array bool con true e false) \n",
        "gooddates = (((eqs.datetime >= ss[0][0]) * (eqs.datetime <= ss[0][1])) + \n",
        "          ((eqs.datetime >= ss[1][0]) * (eqs.datetime <= ss[1][1])) + \n",
        "          ((eqs.datetime >= ss[2][0]) * (eqs.datetime <= ss[2][1])) + \n",
        "          ((eqs.datetime >= ss[3][0]) * (eqs.datetime <= ss[3][1])) +\n",
        "          ((eqs.datetime >= ss[4][0]) * (eqs.datetime <= ss[4][1])) +\n",
        "          ((eqs.datetime >= ss[5][0]) * (eqs.datetime <= ss[5][1])) +\n",
        "          ((eqs.datetime >= ss[6][0]) * (eqs.datetime <= ss[6][1])) +\n",
        "          ((eqs.datetime >= ss[7][0]) * (eqs.datetime <= ss[7][1])) +\n",
        "          ((eqs.datetime >= ss[8][0]) * (eqs.datetime <= ss[8][1])) + \n",
        "          ((eqs.datetime >= ss[9][0]) * (eqs.datetime <= ss[9][1])) +\n",
        "          ((eqs.datetime >= ss[10][0]) * (eqs.datetime <= ss[10][1]))).values"
      ],
      "metadata": {
        "id": "XCy7v5rl6yld"
      },
      "execution_count": 18,
      "outputs": []
    },
    {
      "cell_type": "code",
      "source": [
        "gooddates"
      ],
      "metadata": {
        "id": "pYSBC7KH7eNt",
        "outputId": "92d38fe4-4b37-4a0b-8305-e73a4ecb6191",
        "colab": {
          "base_uri": "https://localhost:8080/"
        }
      },
      "execution_count": 19,
      "outputs": [
        {
          "output_type": "execute_result",
          "data": {
            "text/plain": [
              "array([ True,  True,  True, ...,  True,  True,  True])"
            ]
          },
          "metadata": {},
          "execution_count": 19
        }
      ]
    },
    {
      "cell_type": "code",
      "source": [
        "eqs.columns"
      ],
      "metadata": {
        "id": "TLhpEQK18ad6",
        "outputId": "a9188962-87d8-4e19-b3e5-5ff16a107c88",
        "colab": {
          "base_uri": "https://localhost:8080/"
        }
      },
      "execution_count": 20,
      "outputs": [
        {
          "output_type": "execute_result",
          "data": {
            "text/plain": [
              "Index(['date', 'time', 'ET', 'GT', 'MAG', 'Unnamed: 5', 'M', 'Unnamed: 7',\n",
              "       'Unnamed: 8', 'Unnamed: 9', 'LAT', 'Unnamed: 11', 'Unnamed: 12',\n",
              "       'Unnamed: 13', 'Unnamed: 14', 'Unnamed: 15', 'Unnamed: 16', 'LON',\n",
              "       'Unnamed: 18', 'Unnamed: 19', 'Unnamed: 20', 'Unnamed: 21',\n",
              "       'Unnamed: 22', 'DEPTH', 'Q', 'Unnamed: 25', 'EVID', 'Unnamed: 27',\n",
              "       'Unnamed: 28', 'Unnamed: 29', 'Unnamed: 30', 'Unnamed: 31', 'NPH',\n",
              "       'NGRM', 'datetime'],\n",
              "      dtype='object')"
            ]
          },
          "metadata": {},
          "execution_count": 20
        }
      ]
    },
    {
      "cell_type": "code",
      "source": [],
      "metadata": {
        "id": "_5FcYMeg-EcY"
      },
      "execution_count": 20,
      "outputs": []
    },
    {
      "cell_type": "code",
      "source": [
        "#La magnitudo era all'interno di \"unnamed: 5\", tengo soltanto la data e la magnitudo\n",
        "eqGoodData = eqs[gooddates][[\"datetime\", 'Unnamed: 5']]"
      ],
      "metadata": {
        "id": "i7apTqqO7gq9"
      },
      "execution_count": 21,
      "outputs": []
    },
    {
      "cell_type": "code",
      "source": [
        "#Cambio il nome così si capisce cosa è\n",
        "eqGoodData.rename({'Unnamed: 5':\"mag\"}, axis=1, inplace=True)"
      ],
      "metadata": {
        "id": "nxk3N16o8QEq"
      },
      "execution_count": 22,
      "outputs": []
    },
    {
      "cell_type": "code",
      "source": [
        "#Di tutto il dataframe ho soltanto quello che mi serve\n",
        "eqGoodData.head()"
      ],
      "metadata": {
        "id": "U10-pymH-VT6",
        "outputId": "937fa8ac-572d-4cf0-a0a0-859e33ed721b",
        "colab": {
          "base_uri": "https://localhost:8080/",
          "height": 206
        }
      },
      "execution_count": 23,
      "outputs": [
        {
          "output_type": "execute_result",
          "data": {
            "text/plain": [
              "                 datetime   mag\n",
              "0 1984-01-01 01:30:57.520  2.02\n",
              "1 1984-01-01 05:31:34.160  2.12\n",
              "2 1984-01-01 06:59:05.140  2.43\n",
              "3 1984-01-01 11:10:25.290  2.07\n",
              "4 1984-01-01 19:38:19.790  2.13"
            ],
            "text/html": [
              "\n",
              "  <div id=\"df-6173a613-3624-4077-b813-8fd0e3eb154f\">\n",
              "    <div class=\"colab-df-container\">\n",
              "      <div>\n",
              "<style scoped>\n",
              "    .dataframe tbody tr th:only-of-type {\n",
              "        vertical-align: middle;\n",
              "    }\n",
              "\n",
              "    .dataframe tbody tr th {\n",
              "        vertical-align: top;\n",
              "    }\n",
              "\n",
              "    .dataframe thead th {\n",
              "        text-align: right;\n",
              "    }\n",
              "</style>\n",
              "<table border=\"1\" class=\"dataframe\">\n",
              "  <thead>\n",
              "    <tr style=\"text-align: right;\">\n",
              "      <th></th>\n",
              "      <th>datetime</th>\n",
              "      <th>mag</th>\n",
              "    </tr>\n",
              "  </thead>\n",
              "  <tbody>\n",
              "    <tr>\n",
              "      <th>0</th>\n",
              "      <td>1984-01-01 01:30:57.520</td>\n",
              "      <td>2.02</td>\n",
              "    </tr>\n",
              "    <tr>\n",
              "      <th>1</th>\n",
              "      <td>1984-01-01 05:31:34.160</td>\n",
              "      <td>2.12</td>\n",
              "    </tr>\n",
              "    <tr>\n",
              "      <th>2</th>\n",
              "      <td>1984-01-01 06:59:05.140</td>\n",
              "      <td>2.43</td>\n",
              "    </tr>\n",
              "    <tr>\n",
              "      <th>3</th>\n",
              "      <td>1984-01-01 11:10:25.290</td>\n",
              "      <td>2.07</td>\n",
              "    </tr>\n",
              "    <tr>\n",
              "      <th>4</th>\n",
              "      <td>1984-01-01 19:38:19.790</td>\n",
              "      <td>2.13</td>\n",
              "    </tr>\n",
              "  </tbody>\n",
              "</table>\n",
              "</div>\n",
              "      <button class=\"colab-df-convert\" onclick=\"convertToInteractive('df-6173a613-3624-4077-b813-8fd0e3eb154f')\"\n",
              "              title=\"Convert this dataframe to an interactive table.\"\n",
              "              style=\"display:none;\">\n",
              "        \n",
              "  <svg xmlns=\"http://www.w3.org/2000/svg\" height=\"24px\"viewBox=\"0 0 24 24\"\n",
              "       width=\"24px\">\n",
              "    <path d=\"M0 0h24v24H0V0z\" fill=\"none\"/>\n",
              "    <path d=\"M18.56 5.44l.94 2.06.94-2.06 2.06-.94-2.06-.94-.94-2.06-.94 2.06-2.06.94zm-11 1L8.5 8.5l.94-2.06 2.06-.94-2.06-.94L8.5 2.5l-.94 2.06-2.06.94zm10 10l.94 2.06.94-2.06 2.06-.94-2.06-.94-.94-2.06-.94 2.06-2.06.94z\"/><path d=\"M17.41 7.96l-1.37-1.37c-.4-.4-.92-.59-1.43-.59-.52 0-1.04.2-1.43.59L10.3 9.45l-7.72 7.72c-.78.78-.78 2.05 0 2.83L4 21.41c.39.39.9.59 1.41.59.51 0 1.02-.2 1.41-.59l7.78-7.78 2.81-2.81c.8-.78.8-2.07 0-2.86zM5.41 20L4 18.59l7.72-7.72 1.47 1.35L5.41 20z\"/>\n",
              "  </svg>\n",
              "      </button>\n",
              "      \n",
              "  <style>\n",
              "    .colab-df-container {\n",
              "      display:flex;\n",
              "      flex-wrap:wrap;\n",
              "      gap: 12px;\n",
              "    }\n",
              "\n",
              "    .colab-df-convert {\n",
              "      background-color: #E8F0FE;\n",
              "      border: none;\n",
              "      border-radius: 50%;\n",
              "      cursor: pointer;\n",
              "      display: none;\n",
              "      fill: #1967D2;\n",
              "      height: 32px;\n",
              "      padding: 0 0 0 0;\n",
              "      width: 32px;\n",
              "    }\n",
              "\n",
              "    .colab-df-convert:hover {\n",
              "      background-color: #E2EBFA;\n",
              "      box-shadow: 0px 1px 2px rgba(60, 64, 67, 0.3), 0px 1px 3px 1px rgba(60, 64, 67, 0.15);\n",
              "      fill: #174EA6;\n",
              "    }\n",
              "\n",
              "    [theme=dark] .colab-df-convert {\n",
              "      background-color: #3B4455;\n",
              "      fill: #D2E3FC;\n",
              "    }\n",
              "\n",
              "    [theme=dark] .colab-df-convert:hover {\n",
              "      background-color: #434B5C;\n",
              "      box-shadow: 0px 1px 3px 1px rgba(0, 0, 0, 0.15);\n",
              "      filter: drop-shadow(0px 1px 2px rgba(0, 0, 0, 0.3));\n",
              "      fill: #FFFFFF;\n",
              "    }\n",
              "  </style>\n",
              "\n",
              "      <script>\n",
              "        const buttonEl =\n",
              "          document.querySelector('#df-6173a613-3624-4077-b813-8fd0e3eb154f button.colab-df-convert');\n",
              "        buttonEl.style.display =\n",
              "          google.colab.kernel.accessAllowed ? 'block' : 'none';\n",
              "\n",
              "        async function convertToInteractive(key) {\n",
              "          const element = document.querySelector('#df-6173a613-3624-4077-b813-8fd0e3eb154f');\n",
              "          const dataTable =\n",
              "            await google.colab.kernel.invokeFunction('convertToInteractive',\n",
              "                                                     [key], {});\n",
              "          if (!dataTable) return;\n",
              "\n",
              "          const docLinkHtml = 'Like what you see? Visit the ' +\n",
              "            '<a target=\"_blank\" href=https://colab.research.google.com/notebooks/data_table.ipynb>data table notebook</a>'\n",
              "            + ' to learn more about interactive tables.';\n",
              "          element.innerHTML = '';\n",
              "          dataTable['output_type'] = 'display_data';\n",
              "          await google.colab.output.renderOutput(dataTable, element);\n",
              "          const docLink = document.createElement('div');\n",
              "          docLink.innerHTML = docLinkHtml;\n",
              "          element.appendChild(docLink);\n",
              "        }\n",
              "      </script>\n",
              "    </div>\n",
              "  </div>\n",
              "  "
            ]
          },
          "metadata": {},
          "execution_count": 23
        }
      ]
    },
    {
      "cell_type": "code",
      "source": [
        "#Molto ridotto rispetto a quello originale\n",
        "eqGoodData.shape"
      ],
      "metadata": {
        "id": "263sLfPl8Q3t",
        "outputId": "e2dd8911-dc0b-4ee7-d5ec-399470c3dcad",
        "colab": {
          "base_uri": "https://localhost:8080/"
        }
      },
      "execution_count": 24,
      "outputs": [
        {
          "output_type": "execute_result",
          "data": {
            "text/plain": [
              "(18852, 2)"
            ]
          },
          "metadata": {},
          "execution_count": 24
        }
      ]
    },
    {
      "cell_type": "code",
      "source": [
        "#Volendo vedo i valori unici della magnitudo\n",
        "eqGoodData[\"mag\"].unique()"
      ],
      "metadata": {
        "id": "RxOGc4mc95wu",
        "outputId": "3dffb33d-23d6-4f1a-8d8d-46e2dfaae741",
        "colab": {
          "base_uri": "https://localhost:8080/"
        }
      },
      "execution_count": 25,
      "outputs": [
        {
          "output_type": "execute_result",
          "data": {
            "text/plain": [
              "array([2.02, 2.12, 2.43, 2.07, 2.13, 2.97, 3.24, 2.17, 2.48, 2.65, 3.17,\n",
              "       2.44, 3.02, 2.1 , 2.41, 2.29, 2.09, 2.03, 2.8 , 2.75, 2.92, 2.32,\n",
              "       2.  , 2.67, 2.58, 3.11, 2.15, 2.19, 2.56, 3.25, 2.82, 2.22, 2.34,\n",
              "       2.08, 2.06, 2.14, 2.01, 2.26, 2.62, 2.46, 2.24, 2.16, 2.05, 2.27,\n",
              "       2.69, 2.57, 2.47, 2.81, 2.23, 2.36, 2.2 , 3.13, 2.49, 2.93, 3.31,\n",
              "       2.04, 2.11, 2.6 , 2.55, 3.05, 2.28, 3.23, 2.79, 2.3 , 2.84, 2.39,\n",
              "       2.98, 2.72, 2.61, 2.52, 2.64, 2.35, 2.54, 3.1 , 2.51, 2.53, 3.67,\n",
              "       3.21, 2.18, 2.31, 2.38, 2.74, 2.83, 2.73, 2.9 , 2.95, 2.37, 2.21,\n",
              "       2.25, 2.78, 2.63, 3.14, 2.85, 2.71, 3.44, 2.7 , 3.22, 2.87, 2.5 ,\n",
              "       2.91, 3.53, 3.12, 2.86, 2.89, 2.77, 2.33, 2.68, 2.99, 2.88, 3.86,\n",
              "       2.45, 3.35, 4.23, 2.42, 3.48, 2.94, 3.  , 3.34, 3.51, 3.32, 3.03,\n",
              "       3.06, 2.76, 2.59, 2.96, 2.66, 3.3 , 3.01, 2.4 , 3.93, 3.4 , 3.52,\n",
              "       4.15, 3.08, 3.83, 3.16, 3.8 , 3.62, 3.82, 3.5 , 3.54, 3.49, 3.26,\n",
              "       3.28, 3.46, 3.45, 3.6 , 3.42, 3.27, 4.26, 3.75, 3.55, 3.04, 3.09,\n",
              "       3.19, 4.05, 3.81, 3.85, 4.04, 3.07, 4.09, 3.15, 3.36, 3.9 , 3.66,\n",
              "       4.21, 3.7 , 4.31, 3.68, 4.07, 3.18, 3.64, 3.92, 4.5 , 3.72, 4.53,\n",
              "       4.56, 3.91, 3.84, 4.24, 3.77, 3.41, 3.38, 3.37, 3.71, 4.61, 3.89,\n",
              "       3.43, 3.56, 4.41, 4.87, 4.3 , 3.59, 3.78, 4.63, 3.69, 3.2 , 3.39,\n",
              "       3.63, 4.28, 3.29, 3.87, 4.72, 4.02, 4.06, 4.35, 4.58, 3.61, 3.33,\n",
              "       4.43, 4.17, 3.94, 3.47, 4.14, 3.97, 3.74, 3.58, 3.57, 4.01, 4.11,\n",
              "       4.08, 4.49, 3.65, 3.73, 4.25, 3.88, 5.8 , 3.95, 4.13, 3.98, 4.12,\n",
              "       5.32, 4.27, 4.18, 3.76, 4.54, 4.34, 4.77, 5.02, 4.  , 5.26, 5.07,\n",
              "       4.92, 3.96, 4.75, 4.76, 4.89, 4.29, 4.86, 4.84, 3.79, 4.78, 4.4 ,\n",
              "       4.82, 4.38, 4.42, 4.66, 4.22, 4.36, 5.7 , 3.99])"
            ]
          },
          "metadata": {},
          "execution_count": 25
        }
      ]
    },
    {
      "cell_type": "code",
      "source": [
        "#Tengo soltanto i terremoti con mag maggiore di 2, gli altri non sono considerati ....(?) tipo scosse di assestamento\n",
        "eqGoodData = eqGoodData[eqGoodData[\"mag\"] >=2]"
      ],
      "metadata": {
        "id": "_VDrv8dN8kQj"
      },
      "execution_count": 26,
      "outputs": []
    },
    {
      "cell_type": "code",
      "source": [
        "eqGoodData.shape"
      ],
      "metadata": {
        "id": "6nmeSU839zuI",
        "outputId": "2c860270-90fd-4023-b1fc-979e11fe0b85",
        "colab": {
          "base_uri": "https://localhost:8080/"
        }
      },
      "execution_count": 27,
      "outputs": [
        {
          "output_type": "execute_result",
          "data": {
            "text/plain": [
              "(18852, 2)"
            ]
          },
          "metadata": {},
          "execution_count": 27
        }
      ]
    },
    {
      "cell_type": "code",
      "source": [
        "#nuova colonna col tempo trascorso tra una scossa e la precedente  comando diff()\n",
        "eqGoodData['gaps'] = eqGoodData[\"datetime\"].diff().values.astype(float)\n"
      ],
      "metadata": {
        "id": "H8TpV64K-_t1"
      },
      "execution_count": 28,
      "outputs": []
    },
    {
      "cell_type": "code",
      "source": [
        "#per il primo non ho niente da sottrarre, quindi è un valore anomalo \n",
        "eqGoodData"
      ],
      "metadata": {
        "id": "o-KCsMMQ_Pqv",
        "outputId": "9f252d32-320b-4fb5-bbb5-90bd7a60aecb",
        "colab": {
          "base_uri": "https://localhost:8080/",
          "height": 423
        }
      },
      "execution_count": 29,
      "outputs": [
        {
          "output_type": "execute_result",
          "data": {
            "text/plain": [
              "                     datetime   mag          gaps\n",
              "0     1984-01-01 01:30:57.520  2.02 -9.223372e+18\n",
              "1     1984-01-01 05:31:34.160  2.12  1.443664e+13\n",
              "2     1984-01-01 06:59:05.140  2.43  5.250980e+12\n",
              "3     1984-01-01 11:10:25.290  2.07  1.508015e+13\n",
              "4     1984-01-01 19:38:19.790  2.13  3.047450e+13\n",
              "...                       ...   ...           ...\n",
              "70793 2002-12-29 19:37:24.560  2.21  3.014000e+10\n",
              "70794 2002-12-29 20:17:33.400  2.02  2.408840e+12\n",
              "70795 2002-12-29 20:21:28.730  2.07  2.353300e+11\n",
              "70796 2002-12-30 21:51:52.550  2.31  9.182382e+13\n",
              "70797 2002-12-30 23:38:49.790  2.05  6.417240e+12\n",
              "\n",
              "[18852 rows x 3 columns]"
            ],
            "text/html": [
              "\n",
              "  <div id=\"df-e8a387c4-4f8b-446a-a8fe-1cbda45a7be5\">\n",
              "    <div class=\"colab-df-container\">\n",
              "      <div>\n",
              "<style scoped>\n",
              "    .dataframe tbody tr th:only-of-type {\n",
              "        vertical-align: middle;\n",
              "    }\n",
              "\n",
              "    .dataframe tbody tr th {\n",
              "        vertical-align: top;\n",
              "    }\n",
              "\n",
              "    .dataframe thead th {\n",
              "        text-align: right;\n",
              "    }\n",
              "</style>\n",
              "<table border=\"1\" class=\"dataframe\">\n",
              "  <thead>\n",
              "    <tr style=\"text-align: right;\">\n",
              "      <th></th>\n",
              "      <th>datetime</th>\n",
              "      <th>mag</th>\n",
              "      <th>gaps</th>\n",
              "    </tr>\n",
              "  </thead>\n",
              "  <tbody>\n",
              "    <tr>\n",
              "      <th>0</th>\n",
              "      <td>1984-01-01 01:30:57.520</td>\n",
              "      <td>2.02</td>\n",
              "      <td>-9.223372e+18</td>\n",
              "    </tr>\n",
              "    <tr>\n",
              "      <th>1</th>\n",
              "      <td>1984-01-01 05:31:34.160</td>\n",
              "      <td>2.12</td>\n",
              "      <td>1.443664e+13</td>\n",
              "    </tr>\n",
              "    <tr>\n",
              "      <th>2</th>\n",
              "      <td>1984-01-01 06:59:05.140</td>\n",
              "      <td>2.43</td>\n",
              "      <td>5.250980e+12</td>\n",
              "    </tr>\n",
              "    <tr>\n",
              "      <th>3</th>\n",
              "      <td>1984-01-01 11:10:25.290</td>\n",
              "      <td>2.07</td>\n",
              "      <td>1.508015e+13</td>\n",
              "    </tr>\n",
              "    <tr>\n",
              "      <th>4</th>\n",
              "      <td>1984-01-01 19:38:19.790</td>\n",
              "      <td>2.13</td>\n",
              "      <td>3.047450e+13</td>\n",
              "    </tr>\n",
              "    <tr>\n",
              "      <th>...</th>\n",
              "      <td>...</td>\n",
              "      <td>...</td>\n",
              "      <td>...</td>\n",
              "    </tr>\n",
              "    <tr>\n",
              "      <th>70793</th>\n",
              "      <td>2002-12-29 19:37:24.560</td>\n",
              "      <td>2.21</td>\n",
              "      <td>3.014000e+10</td>\n",
              "    </tr>\n",
              "    <tr>\n",
              "      <th>70794</th>\n",
              "      <td>2002-12-29 20:17:33.400</td>\n",
              "      <td>2.02</td>\n",
              "      <td>2.408840e+12</td>\n",
              "    </tr>\n",
              "    <tr>\n",
              "      <th>70795</th>\n",
              "      <td>2002-12-29 20:21:28.730</td>\n",
              "      <td>2.07</td>\n",
              "      <td>2.353300e+11</td>\n",
              "    </tr>\n",
              "    <tr>\n",
              "      <th>70796</th>\n",
              "      <td>2002-12-30 21:51:52.550</td>\n",
              "      <td>2.31</td>\n",
              "      <td>9.182382e+13</td>\n",
              "    </tr>\n",
              "    <tr>\n",
              "      <th>70797</th>\n",
              "      <td>2002-12-30 23:38:49.790</td>\n",
              "      <td>2.05</td>\n",
              "      <td>6.417240e+12</td>\n",
              "    </tr>\n",
              "  </tbody>\n",
              "</table>\n",
              "<p>18852 rows × 3 columns</p>\n",
              "</div>\n",
              "      <button class=\"colab-df-convert\" onclick=\"convertToInteractive('df-e8a387c4-4f8b-446a-a8fe-1cbda45a7be5')\"\n",
              "              title=\"Convert this dataframe to an interactive table.\"\n",
              "              style=\"display:none;\">\n",
              "        \n",
              "  <svg xmlns=\"http://www.w3.org/2000/svg\" height=\"24px\"viewBox=\"0 0 24 24\"\n",
              "       width=\"24px\">\n",
              "    <path d=\"M0 0h24v24H0V0z\" fill=\"none\"/>\n",
              "    <path d=\"M18.56 5.44l.94 2.06.94-2.06 2.06-.94-2.06-.94-.94-2.06-.94 2.06-2.06.94zm-11 1L8.5 8.5l.94-2.06 2.06-.94-2.06-.94L8.5 2.5l-.94 2.06-2.06.94zm10 10l.94 2.06.94-2.06 2.06-.94-2.06-.94-.94-2.06-.94 2.06-2.06.94z\"/><path d=\"M17.41 7.96l-1.37-1.37c-.4-.4-.92-.59-1.43-.59-.52 0-1.04.2-1.43.59L10.3 9.45l-7.72 7.72c-.78.78-.78 2.05 0 2.83L4 21.41c.39.39.9.59 1.41.59.51 0 1.02-.2 1.41-.59l7.78-7.78 2.81-2.81c.8-.78.8-2.07 0-2.86zM5.41 20L4 18.59l7.72-7.72 1.47 1.35L5.41 20z\"/>\n",
              "  </svg>\n",
              "      </button>\n",
              "      \n",
              "  <style>\n",
              "    .colab-df-container {\n",
              "      display:flex;\n",
              "      flex-wrap:wrap;\n",
              "      gap: 12px;\n",
              "    }\n",
              "\n",
              "    .colab-df-convert {\n",
              "      background-color: #E8F0FE;\n",
              "      border: none;\n",
              "      border-radius: 50%;\n",
              "      cursor: pointer;\n",
              "      display: none;\n",
              "      fill: #1967D2;\n",
              "      height: 32px;\n",
              "      padding: 0 0 0 0;\n",
              "      width: 32px;\n",
              "    }\n",
              "\n",
              "    .colab-df-convert:hover {\n",
              "      background-color: #E2EBFA;\n",
              "      box-shadow: 0px 1px 2px rgba(60, 64, 67, 0.3), 0px 1px 3px 1px rgba(60, 64, 67, 0.15);\n",
              "      fill: #174EA6;\n",
              "    }\n",
              "\n",
              "    [theme=dark] .colab-df-convert {\n",
              "      background-color: #3B4455;\n",
              "      fill: #D2E3FC;\n",
              "    }\n",
              "\n",
              "    [theme=dark] .colab-df-convert:hover {\n",
              "      background-color: #434B5C;\n",
              "      box-shadow: 0px 1px 3px 1px rgba(0, 0, 0, 0.15);\n",
              "      filter: drop-shadow(0px 1px 2px rgba(0, 0, 0, 0.3));\n",
              "      fill: #FFFFFF;\n",
              "    }\n",
              "  </style>\n",
              "\n",
              "      <script>\n",
              "        const buttonEl =\n",
              "          document.querySelector('#df-e8a387c4-4f8b-446a-a8fe-1cbda45a7be5 button.colab-df-convert');\n",
              "        buttonEl.style.display =\n",
              "          google.colab.kernel.accessAllowed ? 'block' : 'none';\n",
              "\n",
              "        async function convertToInteractive(key) {\n",
              "          const element = document.querySelector('#df-e8a387c4-4f8b-446a-a8fe-1cbda45a7be5');\n",
              "          const dataTable =\n",
              "            await google.colab.kernel.invokeFunction('convertToInteractive',\n",
              "                                                     [key], {});\n",
              "          if (!dataTable) return;\n",
              "\n",
              "          const docLinkHtml = 'Like what you see? Visit the ' +\n",
              "            '<a target=\"_blank\" href=https://colab.research.google.com/notebooks/data_table.ipynb>data table notebook</a>'\n",
              "            + ' to learn more about interactive tables.';\n",
              "          element.innerHTML = '';\n",
              "          dataTable['output_type'] = 'display_data';\n",
              "          await google.colab.output.renderOutput(dataTable, element);\n",
              "          const docLink = document.createElement('div');\n",
              "          docLink.innerHTML = docLinkHtml;\n",
              "          element.appendChild(docLink);\n",
              "        }\n",
              "      </script>\n",
              "    </div>\n",
              "  </div>\n",
              "  "
            ]
          },
          "metadata": {},
          "execution_count": 29
        }
      ]
    },
    {
      "cell_type": "code",
      "source": [
        "#Infatti l'istogramma viene male \n",
        "eqGoodData[\"gaps\"].plot(kind=\"hist\", logy=True);"
      ],
      "metadata": {
        "id": "H7iG7rX6-jJy",
        "outputId": "f94a4d5a-c452-4067-ca83-13af4d55fc2a",
        "colab": {
          "base_uri": "https://localhost:8080/",
          "height": 278
        }
      },
      "execution_count": 30,
      "outputs": [
        {
          "output_type": "display_data",
          "data": {
            "text/plain": [
              "<Figure size 432x288 with 1 Axes>"
            ],
            "image/png": "[encoded data removed]"
          },
          "metadata": {
            "needs_background": "light"
          }
        }
      ]
    },
    {
      "cell_type": "code",
      "source": [
        "eqGoodData.describe()"
      ],
      "metadata": {
        "id": "BAWGULlm_a3M",
        "outputId": "525439ed-bec0-4871-e9c9-568f9f18d258",
        "colab": {
          "base_uri": "https://localhost:8080/",
          "height": 300
        }
      },
      "execution_count": 31,
      "outputs": [
        {
          "output_type": "execute_result",
          "data": {
            "text/plain": [
              "                mag          gaps\n",
              "count  18852.000000  1.885200e+04\n",
              "mean       2.399488 -4.574501e+14\n",
              "std        0.392436  6.718482e+16\n",
              "min        2.000000 -9.223372e+18\n",
              "25%        2.110000  2.736622e+12\n",
              "50%        2.290000  8.946950e+12\n",
              "75%        2.570000  2.133966e+13\n",
              "max        5.800000  1.199632e+17"
            ],
            "text/html": [
              "\n",
              "  <div id=\"df-28be09e3-4988-4b07-aafc-5ece754b7438\">\n",
              "    <div class=\"colab-df-container\">\n",
              "      <div>\n",
              "<style scoped>\n",
              "    .dataframe tbody tr th:only-of-type {\n",
              "        vertical-align: middle;\n",
              "    }\n",
              "\n",
              "    .dataframe tbody tr th {\n",
              "        vertical-align: top;\n",
              "    }\n",
              "\n",
              "    .dataframe thead th {\n",
              "        text-align: right;\n",
              "    }\n",
              "</style>\n",
              "<table border=\"1\" class=\"dataframe\">\n",
              "  <thead>\n",
              "    <tr style=\"text-align: right;\">\n",
              "      <th></th>\n",
              "      <th>mag</th>\n",
              "      <th>gaps</th>\n",
              "    </tr>\n",
              "  </thead>\n",
              "  <tbody>\n",
              "    <tr>\n",
              "      <th>count</th>\n",
              "      <td>18852.000000</td>\n",
              "      <td>1.885200e+04</td>\n",
              "    </tr>\n",
              "    <tr>\n",
              "      <th>mean</th>\n",
              "      <td>2.399488</td>\n",
              "      <td>-4.574501e+14</td>\n",
              "    </tr>\n",
              "    <tr>\n",
              "      <th>std</th>\n",
              "      <td>0.392436</td>\n",
              "      <td>6.718482e+16</td>\n",
              "    </tr>\n",
              "    <tr>\n",
              "      <th>min</th>\n",
              "      <td>2.000000</td>\n",
              "      <td>-9.223372e+18</td>\n",
              "    </tr>\n",
              "    <tr>\n",
              "      <th>25%</th>\n",
              "      <td>2.110000</td>\n",
              "      <td>2.736622e+12</td>\n",
              "    </tr>\n",
              "    <tr>\n",
              "      <th>50%</th>\n",
              "      <td>2.290000</td>\n",
              "      <td>8.946950e+12</td>\n",
              "    </tr>\n",
              "    <tr>\n",
              "      <th>75%</th>\n",
              "      <td>2.570000</td>\n",
              "      <td>2.133966e+13</td>\n",
              "    </tr>\n",
              "    <tr>\n",
              "      <th>max</th>\n",
              "      <td>5.800000</td>\n",
              "      <td>1.199632e+17</td>\n",
              "    </tr>\n",
              "  </tbody>\n",
              "</table>\n",
              "</div>\n",
              "      <button class=\"colab-df-convert\" onclick=\"convertToInteractive('df-28be09e3-4988-4b07-aafc-5ece754b7438')\"\n",
              "              title=\"Convert this dataframe to an interactive table.\"\n",
              "              style=\"display:none;\">\n",
              "        \n",
              "  <svg xmlns=\"http://www.w3.org/2000/svg\" height=\"24px\"viewBox=\"0 0 24 24\"\n",
              "       width=\"24px\">\n",
              "    <path d=\"M0 0h24v24H0V0z\" fill=\"none\"/>\n",
              "    <path d=\"M18.56 5.44l.94 2.06.94-2.06 2.06-.94-2.06-.94-.94-2.06-.94 2.06-2.06.94zm-11 1L8.5 8.5l.94-2.06 2.06-.94-2.06-.94L8.5 2.5l-.94 2.06-2.06.94zm10 10l.94 2.06.94-2.06 2.06-.94-2.06-.94-.94-2.06-.94 2.06-2.06.94z\"/><path d=\"M17.41 7.96l-1.37-1.37c-.4-.4-.92-.59-1.43-.59-.52 0-1.04.2-1.43.59L10.3 9.45l-7.72 7.72c-.78.78-.78 2.05 0 2.83L4 21.41c.39.39.9.59 1.41.59.51 0 1.02-.2 1.41-.59l7.78-7.78 2.81-2.81c.8-.78.8-2.07 0-2.86zM5.41 20L4 18.59l7.72-7.72 1.47 1.35L5.41 20z\"/>\n",
              "  </svg>\n",
              "      </button>\n",
              "      \n",
              "  <style>\n",
              "    .colab-df-container {\n",
              "      display:flex;\n",
              "      flex-wrap:wrap;\n",
              "      gap: 12px;\n",
              "    }\n",
              "\n",
              "    .colab-df-convert {\n",
              "      background-color: #E8F0FE;\n",
              "      border: none;\n",
              "      border-radius: 50%;\n",
              "      cursor: pointer;\n",
              "      display: none;\n",
              "      fill: #1967D2;\n",
              "      height: 32px;\n",
              "      padding: 0 0 0 0;\n",
              "      width: 32px;\n",
              "    }\n",
              "\n",
              "    .colab-df-convert:hover {\n",
              "      background-color: #E2EBFA;\n",
              "      box-shadow: 0px 1px 2px rgba(60, 64, 67, 0.3), 0px 1px 3px 1px rgba(60, 64, 67, 0.15);\n",
              "      fill: #174EA6;\n",
              "    }\n",
              "\n",
              "    [theme=dark] .colab-df-convert {\n",
              "      background-color: #3B4455;\n",
              "      fill: #D2E3FC;\n",
              "    }\n",
              "\n",
              "    [theme=dark] .colab-df-convert:hover {\n",
              "      background-color: #434B5C;\n",
              "      box-shadow: 0px 1px 3px 1px rgba(0, 0, 0, 0.15);\n",
              "      filter: drop-shadow(0px 1px 2px rgba(0, 0, 0, 0.3));\n",
              "      fill: #FFFFFF;\n",
              "    }\n",
              "  </style>\n",
              "\n",
              "      <script>\n",
              "        const buttonEl =\n",
              "          document.querySelector('#df-28be09e3-4988-4b07-aafc-5ece754b7438 button.colab-df-convert');\n",
              "        buttonEl.style.display =\n",
              "          google.colab.kernel.accessAllowed ? 'block' : 'none';\n",
              "\n",
              "        async function convertToInteractive(key) {\n",
              "          const element = document.querySelector('#df-28be09e3-4988-4b07-aafc-5ece754b7438');\n",
              "          const dataTable =\n",
              "            await google.colab.kernel.invokeFunction('convertToInteractive',\n",
              "                                                     [key], {});\n",
              "          if (!dataTable) return;\n",
              "\n",
              "          const docLinkHtml = 'Like what you see? Visit the ' +\n",
              "            '<a target=\"_blank\" href=https://colab.research.google.com/notebooks/data_table.ipynb>data table notebook</a>'\n",
              "            + ' to learn more about interactive tables.';\n",
              "          element.innerHTML = '';\n",
              "          dataTable['output_type'] = 'display_data';\n",
              "          await google.colab.output.renderOutput(dataTable, element);\n",
              "          const docLink = document.createElement('div');\n",
              "          docLink.innerHTML = docLinkHtml;\n",
              "          element.appendChild(docLink);\n",
              "        }\n",
              "      </script>\n",
              "    </div>\n",
              "  </div>\n",
              "  "
            ]
          },
          "metadata": {},
          "execution_count": 31
        }
      ]
    },
    {
      "cell_type": "code",
      "source": [
        "#tengo soltanto dal secondo valore in poi\n",
        "eqGoodData = eqGoodData[1:]"
      ],
      "metadata": {
        "id": "_29gsqBL_pqG"
      },
      "execution_count": 32,
      "outputs": []
    },
    {
      "cell_type": "code",
      "source": [
        "#e adesso l'istogramma ha più senso ma ho ancora un problema\n",
        "eqGoodData[\"gaps\"].plot(kind=\"hist\", logy=True);"
      ],
      "metadata": {
        "id": "wzXBJYCo_h14",
        "outputId": "39c5216d-cadb-4532-c8ed-cea808c59181",
        "colab": {
          "base_uri": "https://localhost:8080/",
          "height": 278
        }
      },
      "execution_count": 33,
      "outputs": [
        {
          "output_type": "display_data",
          "data": {
            "text/plain": [
              "<Figure size 432x288 with 1 Axes>"
            ],
            "image/png": "[encoded data removed]"
          },
          "metadata": {
            "needs_background": "light"
          }
        }
      ]
    },
    {
      "cell_type": "code",
      "source": [
        "#tengo soltato se il gap è minore di un mese, se no scorrelato(?) boh\n",
        "monthgap = 2.628e+15 # months in ns\n",
        "eqGoodData = eqGoodData[eqGoodData.gaps < monthgap]\n"
      ],
      "metadata": {
        "id": "MCD_VVFB_876"
      },
      "execution_count": 34,
      "outputs": []
    },
    {
      "cell_type": "code",
      "source": [
        "#però in questo modo ho i dati che mi interessano\n",
        "eqGoodData[\"gaps\"].plot(kind=\"hist\", logy=True);"
      ],
      "metadata": {
        "id": "n1LoGCrBAOJw",
        "outputId": "c44e3e4f-d37b-4942-eb78-16b9432cd7f5",
        "colab": {
          "base_uri": "https://localhost:8080/",
          "height": 278
        }
      },
      "execution_count": 35,
      "outputs": [
        {
          "output_type": "display_data",
          "data": {
            "text/plain": [
              "<Figure size 432x288 with 1 Axes>"
            ],
            "image/png": "[encoded data removed]"
          },
          "metadata": {
            "needs_background": "light"
          }
        }
      ]
    },
    {
      "cell_type": "code",
      "source": [
        "#setto in anticipo la threshold, in modo da non essere invogliato a settarla in base ai risultati\n",
        "alpha = 0.003 # 3 SIGMA "
      ],
      "metadata": {
        "id": "nA4eSYSdARQo"
      },
      "execution_count": 36,
      "outputs": []
    },
    {
      "cell_type": "code",
      "source": [
        "#Fidandomi di questo KStest dovrei rigettare l'ipotesi, ma il problema è che non ho normalizzato rispetto alla media!\n",
        "import numpy as np\n",
        "t1 = eqGoodData['gaps'][eqGoodData.mag >= 2]\n",
        "t2 = eqGoodData['gaps'][eqGoodData.mag >= 2.5]\n",
        "#t1 = t1[t1 < 3e16]\n",
        "sp.stats.ks_2samp(np.log10(t1), np.log10(t2))"
      ],
      "metadata": {
        "id": "AWnr-oiyB0nO",
        "outputId": "f3d3af27-74ba-4e42-86c9-860a4e3a5915",
        "colab": {
          "base_uri": "https://localhost:8080/"
        }
      },
      "execution_count": 37,
      "outputs": [
        {
          "output_type": "execute_result",
          "data": {
            "text/plain": [
              "KstestResult(statistic=0.027581930568767787, pvalue=0.0024725857409166265, statistic_location=12.4585124519953, statistic_sign=-1)"
            ]
          },
          "metadata": {},
          "execution_count": 37
        }
      ]
    },
    {
      "cell_type": "markdown",
      "source": [
        "WARNING!! THIS RESTUL IS WRONG CAUSE DATA WAS NOT SCALED APPRIORIATELY! the KS test is particularly sensitive to differences in the mean"
      ],
      "metadata": {
        "id": "LpvCJvi6zOru"
      }
    },
    {
      "cell_type": "code",
      "source": [
        "pl.hist(t1, cumulative=True, alpha=0.5, histtype=\"step\", density=1)\n",
        "pl.hist(t2, cumulative=True, alpha=0.5, histtype=\"step\", density=1)"
      ],
      "metadata": {
        "id": "ETBrzxG1CVBb",
        "outputId": "0b454f83-67cf-4265-f15e-469f6f9a4d24",
        "colab": {
          "base_uri": "https://localhost:8080/",
          "height": 382
        }
      },
      "execution_count": 38,
      "outputs": [
        {
          "output_type": "execute_result",
          "data": {
            "text/plain": [
              "(array([0.7986014 , 0.93776224, 0.97902098, 0.99388112, 0.99772727,\n",
              "        0.99895105, 0.99947552, 0.99982517, 0.99982517, 1.        ]),\n",
              " array([1.70000000e+08, 2.36584280e+13, 4.73166860e+13, 7.09749440e+13,\n",
              "        9.46332020e+13, 1.18291460e+14, 1.41949718e+14, 1.65607976e+14,\n",
              "        1.89266234e+14, 2.12924492e+14, 2.36582750e+14]),\n",
              " [<matplotlib.patches.Polygon at 0x7f5339fa6d30>])"
            ]
          },
          "metadata": {},
          "execution_count": 38
        },
        {
          "output_type": "display_data",
          "data": {
            "text/plain": [
              "<Figure size 432x288 with 1 Axes>"
            ],
            "image/png": "[encoded data removed]"
          },
          "metadata": {
            "needs_background": "light"
          }
        }
      ]
    },
    {
      "cell_type": "code",
      "source": [
        "#riscalo tutto (qua qualcosa di oscuro)\n",
        "#però alla fine gli istogrammi sono fatti bene e posso confrontarli applicando il KS test\n",
        "\n",
        "#delete\n",
        "def rescale(df, threshold=0.01):\n",
        "    times = [] # container for all arrays of rescaled time gaps (for 5 magnitude thresholds)\n",
        "    hss = [] # container for heights of histograms\n",
        "    binss = [] # container for bins of histograms\n",
        "\n",
        "    for m in [2, 2.5, 3, 3.5, 4]:\n",
        "        #select magnitude and convert to floating point numbers\n",
        "        tmp = df['gaps'][df.mag >= m]\n",
        "        print(\"original data size:\", len(tmp))\n",
        "    \n",
        "        tmp = tmp[tmp < 3e16] #cut outliers (optional)\n",
        "        print(\"removing time gaps that are too long. new size:\", len(tmp))\n",
        "   \n",
        "        for i in range(2): #iterate cuts for stability: do it twice\n",
        "          rs = tmp.mean()\n",
        "          print(\"mean unrescaled time gap {:.3f}\".format(rs))\n",
        "          tmp = tmp[tmp / rs >= threshold] / rs #remove data above threshold, then normalize\n",
        "          print(\"removing time gaps too small, first pass: new size\", len(tmp))\n",
        "    \n",
        "        rs = tmp.mean()\n",
        "        print(\"mean unrescaled time gap {:.3f}\".format(rs))\n",
        "    \n",
        "        tmp = tmp / rs\n",
        "        print(\"  \")\n",
        "    \n",
        "        times.append(np.log10(tmp)) # the data we will run the ks with is log10(time gaps)\n",
        "    \n",
        "        #calculate the histogram of the last array of times (the one that you just calculated)\n",
        "        hs, bins, patch= pl.hist(times[-1], \n",
        "                             cumulative=True, density=1, histtype=\"step\", label=\"mag > %.1f\"%m)\n",
        "        hss.append(hs)\n",
        "        binss.append(bins)\n",
        "\n",
        "    pl.legend(fontsize=10)\n",
        "    pl.xlabel(\"x (normalized time gap)\")\n",
        "    pl.ylabel(\"P(gap > x)\")\n",
        "    return binss, hss, times\n",
        "  \n",
        "binss, hss, times = rescale(eqGoodData, threshold=0.01)"
      ],
      "metadata": {
        "id": "JrGaOK69EMgZ",
        "outputId": "badeef8e-08a1-4d88-c5ab-58956af62a8f",
        "colab": {
          "base_uri": "https://localhost:8080/",
          "height": 973
        }
      },
      "execution_count": 39,
      "outputs": [
        {
          "output_type": "stream",
          "name": "stdout",
          "text": [
            "original data size: 18841\n",
            "removing time gaps that are too long. new size: 18841\n",
            "mean unrescaled time gap 15541334767262.885\n",
            "removing time gaps too small, first pass: new size 17969\n",
            "mean unrescaled time gap 1.048\n",
            "removing time gaps too small, first pass: new size 17951\n",
            "mean unrescaled time gap 1.001\n",
            "  \n",
            "original data size: 5720\n",
            "removing time gaps that are too long. new size: 5720\n",
            "mean unrescaled time gap 14739414136363.637\n",
            "removing time gaps too small, first pass: new size 5398\n",
            "mean unrescaled time gap 1.059\n",
            "removing time gaps too small, first pass: new size 5389\n",
            "mean unrescaled time gap 1.002\n",
            "  \n",
            "original data size: 1464\n",
            "removing time gaps that are too long. new size: 1464\n",
            "mean unrescaled time gap 14323116543715.848\n",
            "removing time gaps too small, first pass: new size 1354\n",
            "mean unrescaled time gap 1.081\n",
            "removing time gaps too small, first pass: new size 1350\n",
            "mean unrescaled time gap 1.003\n",
            "  \n",
            "original data size: 429\n",
            "removing time gaps that are too long. new size: 429\n",
            "mean unrescaled time gap 14724285501165.502\n",
            "removing time gaps too small, first pass: new size 391\n",
            "mean unrescaled time gap 1.097\n",
            "removing time gaps too small, first pass: new size 390\n",
            "mean unrescaled time gap 1.003\n",
            "  \n",
            "original data size: 120\n",
            "removing time gaps that are too long. new size: 120\n",
            "mean unrescaled time gap 16914854250000.000\n",
            "removing time gaps too small, first pass: new size 111\n",
            "mean unrescaled time gap 1.081\n",
            "removing time gaps too small, first pass: new size 109\n",
            "mean unrescaled time gap 1.018\n",
            "  \n"
          ]
        },
        {
          "output_type": "display_data",
          "data": {
            "text/plain": [
              "<Figure size 432x288 with 1 Axes>"
            ],
            "image/png": "[encoded data removed]"
          },
          "metadata": {
            "needs_background": "light"
          }
        }
      ]
    },
    {
      "cell_type": "code",
      "source": [
        "#Applico effettivamente il KS test, una riga di codice, tutta la parte precedente era solo per setuppare i dati nel modo giusto \n",
        "mags = [2, 2.5, 3, 3.5, 4]\n",
        "for i in range(5):\n",
        "  for j in range(i+1, 5):\n",
        "    tmp = sp.stats.ks_2samp(times[i], times[j])\n",
        "    print(mags[i], mags[j], \"{:.3f}\".format(tmp[1]))"
      ],
      "metadata": {
        "id": "c_ezPrGyFGTB",
        "outputId": "705e5e31-e5d5-48d8-b25b-8d30bc007d83",
        "colab": {
          "base_uri": "https://localhost:8080/"
        }
      },
      "execution_count": 40,
      "outputs": [
        {
          "output_type": "stream",
          "name": "stdout",
          "text": [
            "2 2.5 0.345\n",
            "2 3 0.343\n",
            "2 3.5 0.091\n",
            "2 4 0.107\n",
            "2.5 3 0.681\n",
            "2.5 3.5 0.217\n",
            "2.5 4 0.123\n",
            "3 3.5 0.351\n",
            "3 4 0.121\n",
            "3.5 4 0.671\n"
          ]
        }
      ]
    },
    {
      "cell_type": "markdown",
      "source": [
        "CONCLUSION: all values are above the p-values threshold which we chose: alpha=0.003 - we cannot rule out the NH that the samples are extracted from the same distribution. The theory of the existance of a scaling law in earthquakes that relates frequency and magnitute, for now, holds"
      ],
      "metadata": {
        "id": "qRT1Kd6yF91X"
      }
    }
  ]
}